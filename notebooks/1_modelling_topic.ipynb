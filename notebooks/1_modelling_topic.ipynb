{
 "cells": [
  {
   "cell_type": "markdown",
   "source": [
    "## Models"
   ],
   "metadata": {
    "collapsed": false,
    "pycharm": {
     "name": "#%% md\n"
    }
   }
  },
  {
   "cell_type": "code",
   "execution_count": 104,
   "outputs": [],
   "source": [
    "import tensorflow as tf\n",
    "\n",
    "from tensorflow.keras import datasets, layers, models\n",
    "import matplotlib.pyplot as plt"
   ],
   "metadata": {
    "collapsed": false,
    "pycharm": {
     "name": "#%%\n"
    }
   }
  },
  {
   "cell_type": "code",
   "execution_count": 105,
   "outputs": [],
   "source": [
    "model = models.Sequential()\n",
    "model.add(layers.Conv2D(10, (3, 3), activation='relu', input_shape=(29, 29, 3)))\n",
    "model.add(layers.Conv2D(filters=32, kernel_size=3, strides=(2, 2), activation='relu'))"
   ],
   "metadata": {
    "collapsed": false,
    "pycharm": {
     "name": "#%%\n"
    }
   }
  },
  {
   "cell_type": "code",
   "execution_count": 106,
   "outputs": [],
   "source": [
    "model.add(layers.Flatten())\n",
    "model.add(layers.Dense(3))"
   ],
   "metadata": {
    "collapsed": false,
    "pycharm": {
     "name": "#%%\n"
    }
   }
  },
  {
   "cell_type": "code",
   "execution_count": 107,
   "outputs": [],
   "source": [
    "model.compile(optimizer='adam',\n",
    "              loss=tf.keras.losses.SparseCategoricalCrossentropy(from_logits=True),\n",
    "              metrics=['accuracy'])"
   ],
   "metadata": {
    "collapsed": false,
    "pycharm": {
     "name": "#%%\n"
    }
   }
  },
  {
   "cell_type": "code",
   "execution_count": 108,
   "outputs": [],
   "source": [
    "from PIL import Image\n",
    "import os\n",
    "import numpy as np"
   ],
   "metadata": {
    "collapsed": false,
    "pycharm": {
     "name": "#%%\n"
    }
   }
  },
  {
   "cell_type": "code",
   "execution_count": 109,
   "outputs": [],
   "source": [
    "def create_dataset_PIL(img_folder):\n",
    "    img_data_array=[]\n",
    "    class_name=[]\n",
    "    for dir1 in os.listdir(img_folder):\n",
    "        for file in os.listdir(os.path.join(img_folder, dir1)):\n",
    "            image_path= os.path.join(img_folder, dir1,  file)\n",
    "            image= np.array(Image.open(image_path))\n",
    "            image= np.resize(image,(29,29,3))\n",
    "            image = image.astype('float32')\n",
    "            image /= 255\n",
    "            img_data_array.append(image)\n",
    "            class_name.append(dir1)\n",
    "    return img_data_array , class_name\n",
    "PIL_img_data, class_name=create_dataset_PIL(\"D:/HPE Project/Detecting-Dyslexia-at-an-early-stage/data/sample\")\n",
    "PIL_img_data = np.array(PIL_img_data)\n",
    "class_name = np.array(class_name)\n",
    "target_dict={k: v for v, k in enumerate(np.unique(class_name))}\n",
    "target_val=  [target_dict[class_name[i]] for i in range(len(class_name))]\n",
    "target_val = np.array(target_val)"
   ],
   "metadata": {
    "collapsed": false,
    "pycharm": {
     "name": "#%%\n"
    }
   }
  },
  {
   "cell_type": "code",
   "execution_count": 110,
   "outputs": [
    {
     "data": {
      "text/plain": "numpy.ndarray"
     },
     "execution_count": 110,
     "metadata": {},
     "output_type": "execute_result"
    }
   ],
   "source": [
    "type(target_val)"
   ],
   "metadata": {
    "collapsed": false,
    "pycharm": {
     "name": "#%%\n"
    }
   }
  },
  {
   "cell_type": "code",
   "execution_count": 111,
   "outputs": [
    {
     "name": "stdout",
     "output_type": "stream",
     "text": [
      "25248\n",
      "29\n",
      "29\n",
      "3\n"
     ]
    }
   ],
   "source": [
    "print(len(PIL_img_data))\n",
    "print(len(PIL_img_data[0]))\n",
    "print(len(PIL_img_data[0][0]))\n",
    "print(len(PIL_img_data[0][0][0]))"
   ],
   "metadata": {
    "collapsed": false,
    "pycharm": {
     "name": "#%%\n"
    }
   }
  },
  {
   "cell_type": "code",
   "execution_count": 112,
   "outputs": [
    {
     "name": "stdout",
     "output_type": "stream",
     "text": [
      "<class 'numpy.ndarray'>\n",
      "<class 'numpy.ndarray'>\n",
      "<class 'numpy.ndarray'>\n",
      "<class 'numpy.ndarray'>\n",
      "<class 'numpy.float32'>\n"
     ]
    }
   ],
   "source": [
    "print(type(PIL_img_data))\n",
    "print(type(PIL_img_data[0]))\n",
    "print(type(PIL_img_data[0][0]))\n",
    "print(type(PIL_img_data[0][0][0]))\n",
    "print(type(PIL_img_data[0][0][0][0]))"
   ],
   "metadata": {
    "collapsed": false,
    "pycharm": {
     "name": "#%%\n"
    }
   }
  },
  {
   "cell_type": "code",
   "execution_count": 113,
   "outputs": [
    {
     "name": "stdout",
     "output_type": "stream",
     "text": [
      "<class 'numpy.ndarray'>\n",
      "<class 'numpy.str_'>\n",
      "25248\n"
     ]
    }
   ],
   "source": [
    "print(type(class_name))\n",
    "print(type(class_name[0]))\n",
    "print(len(class_name))"
   ],
   "metadata": {
    "collapsed": false,
    "pycharm": {
     "name": "#%%\n"
    }
   }
  },
  {
   "cell_type": "code",
   "execution_count": 114,
   "outputs": [
    {
     "data": {
      "text/plain": "dtype('float32')"
     },
     "execution_count": 114,
     "metadata": {},
     "output_type": "execute_result"
    }
   ],
   "source": [
    "PIL_img_data.dtype"
   ],
   "metadata": {
    "collapsed": false,
    "pycharm": {
     "name": "#%%\n"
    }
   }
  },
  {
   "cell_type": "code",
   "execution_count": 118,
   "outputs": [
    {
     "name": "stdout",
     "output_type": "stream",
     "text": [
      "Epoch 1/20\n",
      "789/789 [==============================] - 15s 17ms/step - loss: 0.4947 - accuracy: 0.6290\n",
      "Epoch 2/20\n",
      "789/789 [==============================] - 9s 12ms/step - loss: 0.4944 - accuracy: 0.6341\n",
      "Epoch 3/20\n",
      "789/789 [==============================] - 11s 14ms/step - loss: 0.4944 - accuracy: 0.6407\n",
      "Epoch 4/20\n",
      "789/789 [==============================] - 11s 14ms/step - loss: 0.4944 - accuracy: 0.6383\n",
      "Epoch 5/20\n",
      "789/789 [==============================] - 10s 13ms/step - loss: 0.4944 - accuracy: 0.6349\n",
      "Epoch 6/20\n",
      "789/789 [==============================] - 11s 14ms/step - loss: 0.4944 - accuracy: 0.6341\n",
      "Epoch 7/20\n",
      "789/789 [==============================] - 10s 12ms/step - loss: 0.4944 - accuracy: 0.6341\n",
      "Epoch 8/20\n",
      "789/789 [==============================] - 12s 15ms/step - loss: 0.4943 - accuracy: 0.6373\n",
      "Epoch 9/20\n",
      "789/789 [==============================] - 10s 13ms/step - loss: 0.4943 - accuracy: 0.6331\n",
      "Epoch 10/20\n",
      "789/789 [==============================] - 10s 13ms/step - loss: 0.4943 - accuracy: 0.6361\n",
      "Epoch 11/20\n",
      "789/789 [==============================] - 11s 13ms/step - loss: 0.4944 - accuracy: 0.6346\n",
      "Epoch 12/20\n",
      "789/789 [==============================] - 11s 14ms/step - loss: 0.4943 - accuracy: 0.6367\n",
      "Epoch 13/20\n",
      "789/789 [==============================] - 11s 14ms/step - loss: 0.4943 - accuracy: 0.6303\n",
      "Epoch 14/20\n",
      "789/789 [==============================] - 12s 15ms/step - loss: 0.4943 - accuracy: 0.6341\n",
      "Epoch 15/20\n",
      "789/789 [==============================] - 9s 12ms/step - loss: 0.4943 - accuracy: 0.6384\n",
      "Epoch 16/20\n",
      "789/789 [==============================] - 9s 12ms/step - loss: 0.4944 - accuracy: 0.6349\n",
      "Epoch 17/20\n",
      "789/789 [==============================] - 11s 14ms/step - loss: 0.4942 - accuracy: 0.6377\n",
      "Epoch 18/20\n",
      "789/789 [==============================] - 10s 12ms/step - loss: 0.4942 - accuracy: 0.6397\n",
      "Epoch 19/20\n",
      "789/789 [==============================] - 10s 12ms/step - loss: 0.4941 - accuracy: 0.6351\n",
      "Epoch 20/20\n",
      "789/789 [==============================] - 12s 15ms/step - loss: 0.4941 - accuracy: 0.6387\n"
     ]
    }
   ],
   "source": [
    "model.compile(optimizer='adam',\n",
    "              loss=tf.keras.losses.SparseCategoricalCrossentropy(from_logits=True),\n",
    "              metrics=['accuracy'])\n",
    "\n",
    "history = model.fit(PIL_img_data, target_val, epochs=20)"
   ],
   "metadata": {
    "collapsed": false,
    "pycharm": {
     "name": "#%%\n"
    }
   }
  },
  {
   "cell_type": "code",
   "execution_count": 1,
   "outputs": [
    {
     "ename": "NameError",
     "evalue": "name 'plt' is not defined",
     "output_type": "error",
     "traceback": [
      "\u001B[1;31m---------------------------------------------------------------------------\u001B[0m",
      "\u001B[1;31mNameError\u001B[0m                                 Traceback (most recent call last)",
      "Input \u001B[1;32mIn [1]\u001B[0m, in \u001B[0;36m<cell line: 1>\u001B[1;34m()\u001B[0m\n\u001B[1;32m----> 1\u001B[0m \u001B[43mplt\u001B[49m\u001B[38;5;241m.\u001B[39mplot(history\u001B[38;5;241m.\u001B[39mhistory[\u001B[38;5;124m'\u001B[39m\u001B[38;5;124maccuracy\u001B[39m\u001B[38;5;124m'\u001B[39m], label\u001B[38;5;241m=\u001B[39m\u001B[38;5;124m'\u001B[39m\u001B[38;5;124maccuracy\u001B[39m\u001B[38;5;124m'\u001B[39m)\n\u001B[0;32m      2\u001B[0m plt\u001B[38;5;241m.\u001B[39mplot(history\u001B[38;5;241m.\u001B[39mhistory[\u001B[38;5;124m'\u001B[39m\u001B[38;5;124mval_accuracy\u001B[39m\u001B[38;5;124m'\u001B[39m], label \u001B[38;5;241m=\u001B[39m \u001B[38;5;124m'\u001B[39m\u001B[38;5;124mval_accuracy\u001B[39m\u001B[38;5;124m'\u001B[39m)\n\u001B[0;32m      3\u001B[0m plt\u001B[38;5;241m.\u001B[39mxlabel(\u001B[38;5;124m'\u001B[39m\u001B[38;5;124mEpoch\u001B[39m\u001B[38;5;124m'\u001B[39m)\n",
      "\u001B[1;31mNameError\u001B[0m: name 'plt' is not defined"
     ]
    }
   ],
   "source": [
    "plt.plot(history.history['accuracy'], label='accuracy')\n",
    "plt.plot(history.history['val_accuracy'], label = 'val_accuracy')\n",
    "plt.xlabel('Epoch')\n",
    "plt.ylabel('Accuracy')\n",
    "plt.ylim([0.5, 1])\n",
    "plt.legend(loc='lower right')"
   ],
   "metadata": {
    "collapsed": false,
    "pycharm": {
     "name": "#%%\n"
    }
   }
  },
  {
   "cell_type": "code",
   "execution_count": null,
   "outputs": [],
   "source": [],
   "metadata": {
    "collapsed": false,
    "pycharm": {
     "name": "#%%\n"
    }
   }
  }
 ],
 "metadata": {
  "kernelspec": {
   "display_name": "Python 3",
   "language": "python",
   "name": "python3"
  },
  "language_info": {
   "codemirror_mode": {
    "name": "ipython",
    "version": 2
   },
   "file_extension": ".py",
   "mimetype": "text/x-python",
   "name": "python",
   "nbconvert_exporter": "python",
   "pygments_lexer": "ipython2",
   "version": "2.7.6"
  }
 },
 "nbformat": 4,
 "nbformat_minor": 0
}