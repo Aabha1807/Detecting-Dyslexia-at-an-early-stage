{
 "cells": [
  {
   "cell_type": "markdown",
   "source": [
    "# Detecting Dyslexia at an Early Stage using Convolutional Neural Network"
   ],
   "metadata": {
    "collapsed": false,
    "pycharm": {
     "name": "#%% md\n"
    }
   }
  },
  {
   "cell_type": "markdown",
   "source": [
    "### Importing Libraries"
   ],
   "metadata": {
    "collapsed": false,
    "pycharm": {
     "name": "#%% md\n"
    }
   }
  },
  {
   "cell_type": "code",
   "execution_count": 32,
   "outputs": [],
   "source": [
    "import tensorflow as tf\n",
    "from tensorflow.keras import datasets, layers, models\n",
    "import matplotlib.pyplot as plt\n",
    "from PIL import Image\n",
    "import os\n",
    "import numpy as np"
   ],
   "metadata": {
    "collapsed": false,
    "pycharm": {
     "name": "#%%\n"
    }
   }
  },
  {
   "cell_type": "markdown",
   "source": [
    "### Uploading the Dataset"
   ],
   "metadata": {
    "collapsed": false,
    "pycharm": {
     "name": "#%% md\n"
    }
   }
  },
  {
   "cell_type": "code",
   "execution_count": 33,
   "outputs": [],
   "source": [
    "def create_dataset_PIL(img_folder):\n",
    "    img_data_array=[]\n",
    "    class_name=[]\n",
    "    for dir1 in os.listdir(img_folder):\n",
    "        for file in os.listdir(os.path.join(img_folder, dir1)):\n",
    "            image_path= os.path.join(img_folder, dir1,  file)\n",
    "            image= np.array(Image.open(image_path))\n",
    "            image= np.resize(image,(29,29,3))\n",
    "            image = image.astype('float32')\n",
    "            image /= 255\n",
    "            img_data_array.append(image)\n",
    "            class_name.append(dir1)\n",
    "    return img_data_array , class_name\n",
    "PIL_img_data, class_name=create_dataset_PIL(\"D:/HPE Project/Detecting-Dyslexia-at-an-early-stage/data/sample\")"
   ],
   "metadata": {
    "collapsed": false,
    "pycharm": {
     "name": "#%%\n"
    }
   }
  },
  {
   "cell_type": "markdown",
   "source": [
    "### Exploring the Dataset"
   ],
   "metadata": {
    "collapsed": false,
    "pycharm": {
     "name": "#%% md\n"
    }
   }
  },
  {
   "cell_type": "code",
   "execution_count": 34,
   "outputs": [
    {
     "name": "stdout",
     "output_type": "stream",
     "text": [
      "Size of the images dataset:  25248\n",
      "Number of categories:  3\n"
     ]
    }
   ],
   "source": [
    "print(\"Size of the images dataset: \", len(PIL_img_data))\n",
    "print(\"Number of categories: \", len(set(class_name)))"
   ],
   "metadata": {
    "collapsed": false,
    "pycharm": {
     "name": "#%%\n"
    }
   }
  },
  {
   "cell_type": "code",
   "execution_count": 35,
   "outputs": [
    {
     "name": "stdout",
     "output_type": "stream",
     "text": [
      "<class 'list'>\n",
      "<class 'numpy.ndarray'>\n",
      "<class 'numpy.ndarray'>\n",
      "<class 'numpy.ndarray'>\n",
      "<class 'numpy.float32'>\n"
     ]
    }
   ],
   "source": [
    "print(type(PIL_img_data))\n",
    "print(type(PIL_img_data[0]))\n",
    "print(type(PIL_img_data[0][0]))\n",
    "print(type(PIL_img_data[0][0][0]))\n",
    "print(type(PIL_img_data[0][0][0][0]))"
   ],
   "metadata": {
    "collapsed": false,
    "pycharm": {
     "name": "#%%\n"
    }
   }
  },
  {
   "cell_type": "code",
   "execution_count": 36,
   "outputs": [
    {
     "name": "stdout",
     "output_type": "stream",
     "text": [
      "25248\n",
      "29\n",
      "29\n",
      "3\n"
     ]
    }
   ],
   "source": [
    "print(len(PIL_img_data))\n",
    "print(len(PIL_img_data[0]))\n",
    "print(len(PIL_img_data[0][0]))\n",
    "print(len(PIL_img_data[0][0][0]))"
   ],
   "metadata": {
    "collapsed": false,
    "pycharm": {
     "name": "#%%\n"
    }
   }
  },
  {
   "cell_type": "code",
   "execution_count": 37,
   "outputs": [
    {
     "name": "stdout",
     "output_type": "stream",
     "text": [
      "<class 'list'>\n",
      "<class 'str'>\n"
     ]
    }
   ],
   "source": [
    "print(type(class_name))\n",
    "print(type(class_name[0]))"
   ],
   "metadata": {
    "collapsed": false,
    "pycharm": {
     "name": "#%%\n"
    }
   }
  },
  {
   "cell_type": "markdown",
   "source": [
    "#### Encoding class names to integral values"
   ],
   "metadata": {
    "collapsed": false,
    "pycharm": {
     "name": "#%% md\n"
    }
   }
  },
  {
   "cell_type": "code",
   "execution_count": 38,
   "outputs": [],
   "source": [
    "target_dict={k: v for v, k in enumerate(np.unique(class_name))}\n",
    "target_val=  [target_dict[class_name[i]] for i in range(len(class_name))]\n",
    "target_val = np.array(target_val)"
   ],
   "metadata": {
    "collapsed": false,
    "pycharm": {
     "name": "#%%\n"
    }
   }
  },
  {
   "cell_type": "code",
   "execution_count": 39,
   "outputs": [
    {
     "name": "stdout",
     "output_type": "stream",
     "text": [
      "25248\n",
      "25248\n"
     ]
    }
   ],
   "source": [
    "print(len(class_name))\n",
    "print(len(target_val))"
   ],
   "metadata": {
    "collapsed": false,
    "pycharm": {
     "name": "#%%\n"
    }
   }
  },
  {
   "cell_type": "markdown",
   "source": [
    "#### Converting the PIL_img_data list to numpy array for neural network compatibility"
   ],
   "metadata": {
    "collapsed": false,
    "pycharm": {
     "name": "#%% md\n"
    }
   }
  },
  {
   "cell_type": "code",
   "execution_count": 40,
   "outputs": [],
   "source": [
    "PIL_img_data = np.array(PIL_img_data)"
   ],
   "metadata": {
    "collapsed": false,
    "pycharm": {
     "name": "#%%\n"
    }
   }
  },
  {
   "cell_type": "markdown",
   "source": [
    "## Building the Model"
   ],
   "metadata": {
    "collapsed": false,
    "pycharm": {
     "name": "#%% md\n"
    }
   }
  },
  {
   "cell_type": "markdown",
   "source": [
    "### Preparing a basic implementation of CNN model"
   ],
   "metadata": {
    "collapsed": false,
    "pycharm": {
     "name": "#%% md\n"
    }
   }
  },
  {
   "cell_type": "code",
   "execution_count": 44,
   "outputs": [],
   "source": [
    "model = models.Sequential()\n",
    "model.add(layers.Conv2D(10, (3, 3), activation='relu', input_shape=(29, 29, 3)))\n",
    "model.add(layers.Conv2D(filters=32, kernel_size=3, strides=(2, 2), activation='softmax'))\n",
    "model.add(layers.Flatten())\n",
    "model.add(layers.Dense(3))"
   ],
   "metadata": {
    "collapsed": false,
    "pycharm": {
     "name": "#%%\n"
    }
   }
  },
  {
   "cell_type": "markdown",
   "source": [
    "### Compiling the Model"
   ],
   "metadata": {
    "collapsed": false,
    "pycharm": {
     "name": "#%% md\n"
    }
   }
  },
  {
   "cell_type": "code",
   "execution_count": 45,
   "outputs": [],
   "source": [
    "model.compile(optimizer='adam',\n",
    "              loss=tf.keras.losses.SparseCategoricalCrossentropy(from_logits=True),\n",
    "              metrics=['accuracy'])"
   ],
   "metadata": {
    "collapsed": false,
    "pycharm": {
     "name": "#%%\n"
    }
   }
  },
  {
   "cell_type": "markdown",
   "source": [
    "### Fitting the Model"
   ],
   "metadata": {
    "collapsed": false,
    "pycharm": {
     "name": "#%% md\n"
    }
   }
  },
  {
   "cell_type": "code",
   "execution_count": 46,
   "outputs": [
    {
     "name": "stdout",
     "output_type": "stream",
     "text": [
      "Epoch 1/20\n",
      "789/789 [==============================] - 9s 10ms/step - loss: 0.5441 - accuracy: 0.6251\n",
      "Epoch 2/20\n",
      "789/789 [==============================] - 9s 12ms/step - loss: 0.5037 - accuracy: 0.6398\n",
      "Epoch 3/20\n",
      "789/789 [==============================] - 10s 12ms/step - loss: 0.5034 - accuracy: 0.6368\n",
      "Epoch 4/20\n",
      "789/789 [==============================] - 8s 10ms/step - loss: 0.5016 - accuracy: 0.6462\n",
      "Epoch 5/20\n",
      "789/789 [==============================] - 9s 11ms/step - loss: 0.5014 - accuracy: 0.6397\n",
      "Epoch 6/20\n",
      "789/789 [==============================] - 8s 10ms/step - loss: 0.5009 - accuracy: 0.6415\n",
      "Epoch 7/20\n",
      "789/789 [==============================] - 8s 10ms/step - loss: 0.5009 - accuracy: 0.6429\n",
      "Epoch 8/20\n",
      "789/789 [==============================] - 8s 11ms/step - loss: 0.5004 - accuracy: 0.6400\n",
      "Epoch 9/20\n",
      "789/789 [==============================] - 7s 9ms/step - loss: 0.5003 - accuracy: 0.6439\n",
      "Epoch 10/20\n",
      "789/789 [==============================] - 7s 9ms/step - loss: 0.5027 - accuracy: 0.6379\n",
      "Epoch 11/20\n",
      "789/789 [==============================] - 7s 9ms/step - loss: 0.5011 - accuracy: 0.6362\n",
      "Epoch 12/20\n",
      "789/789 [==============================] - 7s 9ms/step - loss: 0.4999 - accuracy: 0.6449\n",
      "Epoch 13/20\n",
      "789/789 [==============================] - 8s 10ms/step - loss: 0.5003 - accuracy: 0.6440\n",
      "Epoch 14/20\n",
      "789/789 [==============================] - 8s 10ms/step - loss: 0.5002 - accuracy: 0.6395\n",
      "Epoch 15/20\n",
      "789/789 [==============================] - 7s 9ms/step - loss: 0.4992 - accuracy: 0.6434\n",
      "Epoch 16/20\n",
      "789/789 [==============================] - 8s 10ms/step - loss: 0.4998 - accuracy: 0.6431\n",
      "Epoch 17/20\n",
      "789/789 [==============================] - 7s 9ms/step - loss: 0.5003 - accuracy: 0.6441\n",
      "Epoch 18/20\n",
      "789/789 [==============================] - 8s 10ms/step - loss: 0.4998 - accuracy: 0.6423\n",
      "Epoch 19/20\n",
      "789/789 [==============================] - 7s 9ms/step - loss: 0.5000 - accuracy: 0.6372\n",
      "Epoch 20/20\n",
      "789/789 [==============================] - 8s 10ms/step - loss: 0.4992 - accuracy: 0.6463\n"
     ]
    }
   ],
   "source": [
    "history = model.fit(PIL_img_data, target_val, epochs=20)"
   ],
   "metadata": {
    "collapsed": false,
    "pycharm": {
     "name": "#%%\n"
    }
   }
  },
  {
   "cell_type": "markdown",
   "source": [
    "## Analyzing the result"
   ],
   "metadata": {
    "collapsed": false,
    "pycharm": {
     "name": "#%% md\n"
    }
   }
  },
  {
   "cell_type": "code",
   "execution_count": 53,
   "outputs": [
    {
     "data": {
      "text/plain": "dict_keys(['loss', 'accuracy'])"
     },
     "execution_count": 53,
     "metadata": {},
     "output_type": "execute_result"
    }
   ],
   "source": [
    "history.history.keys()"
   ],
   "metadata": {
    "collapsed": false,
    "pycharm": {
     "name": "#%%\n"
    }
   }
  },
  {
   "cell_type": "code",
   "execution_count": 54,
   "outputs": [
    {
     "data": {
      "text/plain": "<matplotlib.legend.Legend at 0x1bb6f1631c0>"
     },
     "execution_count": 54,
     "metadata": {},
     "output_type": "execute_result"
    },
    {
     "data": {
      "text/plain": "<Figure size 432x288 with 1 Axes>",
      "image/png": "[encoded data removed]"
     },
     "metadata": {
      "needs_background": "light"
     },
     "output_type": "display_data"
    }
   ],
   "source": [
    "plt.plot(history.history['accuracy'], label='accuracy')\n",
    "plt.xlabel('Epoch')\n",
    "plt.ylabel('Accuracy')\n",
    "plt.ylim([0.5, 0.7])\n",
    "plt.legend(loc='lower right')"
   ],
   "metadata": {
    "collapsed": false,
    "pycharm": {
     "name": "#%%\n"
    }
   }
  },
  {
   "cell_type": "markdown",
   "source": [
    "## Additional Comments and Plans...\n",
    "VG16\n",
    "Transfer Learning"
   ],
   "metadata": {
    "collapsed": false,
    "pycharm": {
     "name": "#%% md\n"
    }
   }
  }
 ],
 "metadata": {
  "kernelspec": {
   "display_name": "Python 3",
   "language": "python",
   "name": "python3"
  },
  "language_info": {
   "codemirror_mode": {
    "name": "ipython",
    "version": 2
   },
   "file_extension": ".py",
   "mimetype": "text/x-python",
   "name": "python",
   "nbconvert_exporter": "python",
   "pygments_lexer": "ipython2",
   "version": "2.7.6"
  }
 },
 "nbformat": 4,
 "nbformat_minor": 0
}