{
  "nbformat": 4,
  "nbformat_minor": 0,
  "metadata": {
    "colab": {
      "name": "LeNet5 (improved accuracy with CM).ipynb",
      "provenance": [],
      "collapsed_sections": []
    },
    "kernelspec": {
      "name": "python3",
      "display_name": "Python 3"
    },
    "language_info": {
      "name": "python"
    }
  },
  "cells": [
    {
      "cell_type": "code",
      "execution_count": 1,
      "metadata": {
        "id": "Vj5-I63d9V7K"
      },
      "outputs": [],
      "source": [
        "import numpy as np # linear algebra\n",
        "import pandas as pd # data processing, CSV file I/O (e.g. pd.read_csv)\n",
        "import math\n",
        "import cv2\n",
        "import matplotlib.pyplot as plt\n",
        "import os\n",
        "import seaborn as sns\n",
        "from PIL import Image\n",
        "from scipy import misc\n",
        "from os import listdir\n",
        "from os.path import isfile, join\n",
        "import numpy as np\n",
        "from scipy import misc\n",
        "from random import shuffle\n",
        "from collections import Counter\n",
        "import matplotlib.pyplot as plt\n",
        "from sklearn.decomposition import PCA\n",
        "from sklearn.manifold import TSNE\n",
        "import tensorflow as tf\n",
        "from keras.models import Sequential\n",
        "from keras.layers import Conv2D, MaxPooling2D,AvgPool2D\n",
        "from keras.layers import Activation, Dropout, Flatten, Dense\n",
        "from keras.utils.np_utils import to_categorical"
      ]
    },
    {
      "cell_type": "code",
      "source": [
        "from google.colab import drive\n",
        "drive.mount('/content/drive')"
      ],
      "metadata": {
        "colab": {
          "base_uri": "https://localhost:8080/"
        },
        "id": "d5ACx71WW7lh",
        "outputId": "f72e62af-4e45-436e-8437-2f2c53b25e6b"
      },
      "execution_count": 2,
      "outputs": [
        {
          "output_type": "stream",
          "name": "stdout",
          "text": [
            "Drive already mounted at /content/drive; to attempt to forcibly remount, call drive.mount(\"/content/drive\", force_remount=True).\n"
          ]
        }
      ]
    },
    {
      "cell_type": "code",
      "source": [
        "os.listdir('/content/drive/MyDrive/Train')"
      ],
      "metadata": {
        "colab": {
          "base_uri": "https://localhost:8080/"
        },
        "id": "E-u2JdLD9W3U",
        "outputId": "f4fc7e62-1ceb-4cc5-a641-b4c17376acb2"
      },
      "execution_count": 3,
      "outputs": [
        {
          "output_type": "execute_result",
          "data": {
            "text/plain": [
              "['Reversed', 'Normal', 'Corrected']"
            ]
          },
          "metadata": {},
          "execution_count": 3
        }
      ]
    },
    {
      "cell_type": "code",
      "source": [
        "im =Image.open('/content/drive/MyDrive/Train/Normal/A-0.png').resize((128,128))\n",
        "im"
      ],
      "metadata": {
        "colab": {
          "base_uri": "https://localhost:8080/",
          "height": 145
        },
        "id": "Q8JYxCme9nPU",
        "outputId": "539e29c1-b06c-4367-a743-da2e7fd0ef61"
      },
      "execution_count": 4,
      "outputs": [
        {
          "output_type": "execute_result",
          "data": {
            "text/plain": [
              "<PIL.Image.Image image mode=L size=128x128 at 0x7FE62FBAC590>"
            ],
            "image/png": "[encoded data removed]"
          },
          "metadata": {},
          "execution_count": 4
        }
      ]
    },
    {
      "cell_type": "code",
      "source": [
        "Corrected = os.listdir('/content/drive/MyDrive/Train/Corrected')\n",
        "Normal = os.listdir('/content/drive/MyDrive/Train/Normal')\n",
        "Reversal = os.listdir('/content/drive/MyDrive/Train/Reversed')\n",
        "data=np.concatenate([Corrected,Normal,Reversal])\n",
        "len(data)==len(Corrected)+len(Normal)+len(Reversal)"
      ],
      "metadata": {
        "colab": {
          "base_uri": "https://localhost:8080/"
        },
        "id": "HC78HDpj9vGU",
        "outputId": "b8b05d34-538d-45ea-cf62-a9003ff09130"
      },
      "execution_count": 5,
      "outputs": [
        {
          "output_type": "execute_result",
          "data": {
            "text/plain": [
              "True"
            ]
          },
          "metadata": {},
          "execution_count": 5
        }
      ]
    },
    {
      "cell_type": "code",
      "source": [
        "target_x=np.full(len(Normal),1)\n",
        "target_y=np.full(len(Reversal),0)\n",
        "target_z=np.full(len(Corrected),0)\n",
        "data_target=np.concatenate([target_x,target_y,target_z])\n",
        "len(data_target)==len(target_x)+len(target_y)+len(target_z)"
      ],
      "metadata": {
        "colab": {
          "base_uri": "https://localhost:8080/"
        },
        "id": "0LlwZ6RI-N04",
        "outputId": "996a2d05-3d07-4be7-c6d9-663455c67a64"
      },
      "execution_count": 6,
      "outputs": [
        {
          "output_type": "execute_result",
          "data": {
            "text/plain": [
              "True"
            ]
          },
          "metadata": {},
          "execution_count": 6
        }
      ]
    },
    {
      "cell_type": "code",
      "source": [
        "data_target"
      ],
      "metadata": {
        "colab": {
          "base_uri": "https://localhost:8080/"
        },
        "id": "tKsewcDt_a_9",
        "outputId": "3e6706f3-6d58-4589-faab-66cc05c7fc15"
      },
      "execution_count": 7,
      "outputs": [
        {
          "output_type": "execute_result",
          "data": {
            "text/plain": [
              "array([1, 1, 1, ..., 0, 0, 0])"
            ]
          },
          "metadata": {},
          "execution_count": 7
        }
      ]
    },
    {
      "cell_type": "code",
      "source": [
        "Corrected_values=os.listdir('/content/drive/MyDrive/Train/Corrected')\n",
        "Normal_values=os.listdir('/content/drive/MyDrive/Train/Normal')\n",
        "Reversal_values=os.listdir('/content/drive/MyDrive/Train/Reversed')\n",
        "X_data =[]\n",
        "for file in Corrected_values:\n",
        "    img = cv2.imread('/content/drive/MyDrive/Train/Corrected/'+file)\n",
        "    face = cv2.resize(img, (28, 28))\n",
        "    (b, g, r)=cv2.split(face) \n",
        "    img=cv2.merge([r,g,b])\n",
        "    X_data.append(img)\n",
        "for file in Normal_values:\n",
        "    img = cv2.imread('/content/drive/MyDrive/Train/Normal/'+file)\n",
        "    face = cv2.resize(img, (28, 28))\n",
        "    (b, g, r)=cv2.split(face) \n",
        "    img=cv2.merge([r,g,b])\n",
        "    X_data.append(img)\n",
        "for file in Reversal_values:\n",
        "    img = cv2.imread('/content/drive/MyDrive/Train/Reversed/'+file)\n",
        "    face = cv2.resize(img, (28, 28))\n",
        "    (b, g, r)=cv2.split(face) \n",
        "    img=cv2.merge([r,g,b])\n",
        "    X_data.append(img)\n",
        "\n",
        "len(X_data)==len(data)==len(data_target)"
      ],
      "metadata": {
        "id": "zNftTCQv_ftM",
        "colab": {
          "base_uri": "https://localhost:8080/"
        },
        "outputId": "e54ac9d5-1373-4668-f0b3-3b3bc9f414f4"
      },
      "execution_count": 8,
      "outputs": [
        {
          "output_type": "execute_result",
          "data": {
            "text/plain": [
              "True"
            ]
          },
          "metadata": {},
          "execution_count": 8
        }
      ]
    },
    {
      "cell_type": "code",
      "source": [
        "X = np.squeeze(X_data)\n",
        "X.shape\n",
        "# normalize data\n",
        "X = X.astype('float32')\n",
        "X /= 255"
      ],
      "metadata": {
        "id": "gvySmBJ1ALjj"
      },
      "execution_count": 9,
      "outputs": []
    },
    {
      "cell_type": "code",
      "source": [
        "from sklearn.model_selection import train_test_split\n",
        "\n",
        "x_train, x_test, y_train, y_test = train_test_split(X, data_target, test_size = 0.2, random_state = 0, stratify = data_target)"
      ],
      "metadata": {
        "id": "IUad8wNCAkZI"
      },
      "execution_count": 10,
      "outputs": []
    },
    {
      "cell_type": "code",
      "source": [
        "model = Sequential()\n",
        "model.add(Conv2D(filters=32, kernel_size=(5,5), padding='same', activation='relu', input_shape=(28,28, 3)))\n",
        "model.add(MaxPooling2D(strides=2))\n",
        "model.add(Conv2D(filters=48, kernel_size=(5,5), padding='valid', activation='relu'))\n",
        "model.add(MaxPooling2D(strides=2))\n",
        "model.add(Flatten())\n",
        "model.add(Dense(256, activation='relu'))\n",
        "model.add(Dense(84, activation='relu'))\n",
        "model.add(Dense(3, activation='softmax'))\n",
        "\n",
        "\n",
        "model.build()\n",
        "model.summary()"
      ],
      "metadata": {
        "id": "Lol1T9iUAlde",
        "colab": {
          "base_uri": "https://localhost:8080/"
        },
        "outputId": "5fc0921f-c7fb-4dd4-fb9f-5b03b38f29d6"
      },
      "execution_count": 11,
      "outputs": [
        {
          "output_type": "stream",
          "name": "stdout",
          "text": [
            "Model: \"sequential\"\n",
            "_________________________________________________________________\n",
            " Layer (type)                Output Shape              Param #   \n",
            "=================================================================\n",
            " conv2d (Conv2D)             (None, 28, 28, 32)        2432      \n",
            "                                                                 \n",
            " max_pooling2d (MaxPooling2D  (None, 14, 14, 32)       0         \n",
            " )                                                               \n",
            "                                                                 \n",
            " conv2d_1 (Conv2D)           (None, 10, 10, 48)        38448     \n",
            "                                                                 \n",
            " max_pooling2d_1 (MaxPooling  (None, 5, 5, 48)         0         \n",
            " 2D)                                                             \n",
            "                                                                 \n",
            " flatten (Flatten)           (None, 1200)              0         \n",
            "                                                                 \n",
            " dense (Dense)               (None, 256)               307456    \n",
            "                                                                 \n",
            " dense_1 (Dense)             (None, 84)                21588     \n",
            "                                                                 \n",
            " dense_2 (Dense)             (None, 3)                 255       \n",
            "                                                                 \n",
            "=================================================================\n",
            "Total params: 370,179\n",
            "Trainable params: 370,179\n",
            "Non-trainable params: 0\n",
            "_________________________________________________________________\n"
          ]
        }
      ]
    },
    {
      "cell_type": "code",
      "source": [
        "from tensorflow.keras.optimizers import Adam\n",
        "adam = Adam(lr=5e-4)\n",
        "model.compile(loss='sparse_categorical_crossentropy', metrics=['accuracy'], optimizer=adam)"
      ],
      "metadata": {
        "id": "JJi92Y-rAnXx",
        "colab": {
          "base_uri": "https://localhost:8080/"
        },
        "outputId": "e92e7149-e348-4169-9c02-52fff96f9c35"
      },
      "execution_count": 12,
      "outputs": [
        {
          "output_type": "stream",
          "name": "stderr",
          "text": [
            "/usr/local/lib/python3.7/dist-packages/keras/optimizer_v2/adam.py:105: UserWarning: The `lr` argument is deprecated, use `learning_rate` instead.\n",
            "  super(Adam, self).__init__(name, **kwargs)\n"
          ]
        }
      ]
    },
    {
      "cell_type": "code",
      "source": [
        "# Set a learning rate annealer\n",
        "from keras.callbacks import ReduceLROnPlateau\n",
        "reduce_lr = ReduceLROnPlateau(monitor='val_accuracy', \n",
        "                                patience=3, \n",
        "                                verbose=1, \n",
        "                                factor=0.2, \n",
        "                                min_lr=1e-6)"
      ],
      "metadata": {
        "id": "qLoJ5ZCaApL6"
      },
      "execution_count": 13,
      "outputs": []
    },
    {
      "cell_type": "code",
      "source": [
        "# Data Augmentation\n",
        "from keras.preprocessing.image import ImageDataGenerator\n",
        "datagen = ImageDataGenerator(\n",
        "            rotation_range=10, \n",
        "            width_shift_range=0.1, \n",
        "            height_shift_range=0.1, \n",
        "            zoom_range=0.1)\n",
        "datagen.fit(x_train)"
      ],
      "metadata": {
        "id": "sokjE8MoArUf"
      },
      "execution_count": 14,
      "outputs": []
    },
    {
      "cell_type": "code",
      "source": [
        "history=model.fit(x_train, y_train, batch_size=10, steps_per_epoch=len(x_train)/100, epochs=30, validation_data=(x_test, y_test), callbacks=[reduce_lr])"
      ],
      "metadata": {
        "id": "CyXXKdy6Aw8Y",
        "colab": {
          "base_uri": "https://localhost:8080/"
        },
        "outputId": "4a28efe2-448f-4330-da62-44443f8e9bde"
      },
      "execution_count": 15,
      "outputs": [
        {
          "output_type": "stream",
          "name": "stdout",
          "text": [
            "Epoch 1/30\n",
            "24/24 [==============================] - 2s 46ms/step - loss: 0.7300 - accuracy: 0.5880 - val_loss: 0.6383 - val_accuracy: 0.6504 - lr: 5.0000e-04\n",
            "Epoch 2/30\n",
            "24/24 [==============================] - 1s 49ms/step - loss: 0.6028 - accuracy: 0.6680 - val_loss: 0.6146 - val_accuracy: 0.6504 - lr: 5.0000e-04\n",
            "Epoch 3/30\n",
            "24/24 [==============================] - 1s 38ms/step - loss: 0.6755 - accuracy: 0.6000 - val_loss: 0.5885 - val_accuracy: 0.6553 - lr: 5.0000e-04\n",
            "Epoch 4/30\n",
            "24/24 [==============================] - 1s 39ms/step - loss: 0.5676 - accuracy: 0.7000 - val_loss: 0.5720 - val_accuracy: 0.7154 - lr: 5.0000e-04\n",
            "Epoch 5/30\n",
            "24/24 [==============================] - 1s 40ms/step - loss: 0.5758 - accuracy: 0.6680 - val_loss: 0.5538 - val_accuracy: 0.6683 - lr: 5.0000e-04\n",
            "Epoch 6/30\n",
            "24/24 [==============================] - 1s 42ms/step - loss: 0.5819 - accuracy: 0.6720 - val_loss: 0.5585 - val_accuracy: 0.6553 - lr: 5.0000e-04\n",
            "Epoch 7/30\n",
            "24/24 [==============================] - 1s 44ms/step - loss: 0.5516 - accuracy: 0.7080 - val_loss: 0.5337 - val_accuracy: 0.7252 - lr: 5.0000e-04\n",
            "Epoch 8/30\n",
            "24/24 [==============================] - 2s 66ms/step - loss: 0.4755 - accuracy: 0.7440 - val_loss: 0.5812 - val_accuracy: 0.6878 - lr: 5.0000e-04\n",
            "Epoch 9/30\n",
            "24/24 [==============================] - 1s 38ms/step - loss: 0.5783 - accuracy: 0.6760 - val_loss: 0.5477 - val_accuracy: 0.7236 - lr: 5.0000e-04\n",
            "Epoch 10/30\n",
            "25/24 [==============================] - ETA: 0s - loss: 0.5162 - accuracy: 0.7368\n",
            "Epoch 10: ReduceLROnPlateau reducing learning rate to 0.00010000000474974513.\n",
            "24/24 [==============================] - 1s 39ms/step - loss: 0.5162 - accuracy: 0.7368 - val_loss: 0.5173 - val_accuracy: 0.7073 - lr: 5.0000e-04\n",
            "Epoch 11/30\n",
            "24/24 [==============================] - 1s 40ms/step - loss: 0.4979 - accuracy: 0.7320 - val_loss: 0.5054 - val_accuracy: 0.7317 - lr: 1.0000e-04\n",
            "Epoch 12/30\n",
            "24/24 [==============================] - 1s 40ms/step - loss: 0.4517 - accuracy: 0.7400 - val_loss: 0.5017 - val_accuracy: 0.7382 - lr: 1.0000e-04\n",
            "Epoch 13/30\n",
            "24/24 [==============================] - 1s 40ms/step - loss: 0.4470 - accuracy: 0.7640 - val_loss: 0.5083 - val_accuracy: 0.7415 - lr: 1.0000e-04\n",
            "Epoch 14/30\n",
            "24/24 [==============================] - 1s 40ms/step - loss: 0.4291 - accuracy: 0.7640 - val_loss: 0.5078 - val_accuracy: 0.7447 - lr: 1.0000e-04\n",
            "Epoch 15/30\n",
            "24/24 [==============================] - 1s 39ms/step - loss: 0.5371 - accuracy: 0.6840 - val_loss: 0.5162 - val_accuracy: 0.7268 - lr: 1.0000e-04\n",
            "Epoch 16/30\n",
            "24/24 [==============================] - 1s 39ms/step - loss: 0.4559 - accuracy: 0.7640 - val_loss: 0.5075 - val_accuracy: 0.7268 - lr: 1.0000e-04\n",
            "Epoch 17/30\n",
            "25/24 [==============================] - ETA: 0s - loss: 0.4784 - accuracy: 0.7800\n",
            "Epoch 17: ReduceLROnPlateau reducing learning rate to 2.0000000949949027e-05.\n",
            "24/24 [==============================] - 1s 39ms/step - loss: 0.4784 - accuracy: 0.7800 - val_loss: 0.5063 - val_accuracy: 0.7220 - lr: 1.0000e-04\n",
            "Epoch 18/30\n",
            "24/24 [==============================] - 1s 40ms/step - loss: 0.4460 - accuracy: 0.7640 - val_loss: 0.5079 - val_accuracy: 0.7236 - lr: 2.0000e-05\n",
            "Epoch 19/30\n",
            "24/24 [==============================] - 1s 39ms/step - loss: 0.5002 - accuracy: 0.7360 - val_loss: 0.5008 - val_accuracy: 0.7447 - lr: 2.0000e-05\n",
            "Epoch 20/30\n",
            "24/24 [============================>.] - ETA: 0s - loss: 0.4589 - accuracy: 0.7257\n",
            "Epoch 20: ReduceLROnPlateau reducing learning rate to 4.000000262749381e-06.\n",
            "24/24 [==============================] - 1s 40ms/step - loss: 0.4592 - accuracy: 0.7287 - val_loss: 0.5007 - val_accuracy: 0.7431 - lr: 2.0000e-05\n",
            "Epoch 21/30\n",
            "24/24 [==============================] - 1s 40ms/step - loss: 0.4510 - accuracy: 0.7680 - val_loss: 0.5006 - val_accuracy: 0.7431 - lr: 4.0000e-06\n",
            "Epoch 22/30\n",
            "24/24 [==============================] - 1s 50ms/step - loss: 0.4292 - accuracy: 0.7880 - val_loss: 0.5005 - val_accuracy: 0.7431 - lr: 4.0000e-06\n",
            "Epoch 23/30\n",
            "25/24 [==============================] - ETA: 0s - loss: 0.4913 - accuracy: 0.7360\n",
            "Epoch 23: ReduceLROnPlateau reducing learning rate to 1e-06.\n",
            "24/24 [==============================] - 1s 40ms/step - loss: 0.4913 - accuracy: 0.7360 - val_loss: 0.5004 - val_accuracy: 0.7431 - lr: 4.0000e-06\n",
            "Epoch 24/30\n",
            "24/24 [==============================] - 1s 39ms/step - loss: 0.4198 - accuracy: 0.7800 - val_loss: 0.5002 - val_accuracy: 0.7431 - lr: 1.0000e-06\n",
            "Epoch 25/30\n",
            "24/24 [==============================] - 1s 40ms/step - loss: 0.4482 - accuracy: 0.7640 - val_loss: 0.5001 - val_accuracy: 0.7431 - lr: 1.0000e-06\n",
            "Epoch 26/30\n",
            "24/24 [==============================] - 1s 39ms/step - loss: 0.4622 - accuracy: 0.7320 - val_loss: 0.5000 - val_accuracy: 0.7415 - lr: 1.0000e-06\n",
            "Epoch 27/30\n",
            "24/24 [==============================] - 1s 39ms/step - loss: 0.4473 - accuracy: 0.8200 - val_loss: 0.5001 - val_accuracy: 0.7431 - lr: 1.0000e-06\n",
            "Epoch 28/30\n",
            "24/24 [==============================] - 1s 40ms/step - loss: 0.4069 - accuracy: 0.8000 - val_loss: 0.5001 - val_accuracy: 0.7431 - lr: 1.0000e-06\n",
            "Epoch 29/30\n",
            "24/24 [==============================] - 1s 39ms/step - loss: 0.4326 - accuracy: 0.7920 - val_loss: 0.5001 - val_accuracy: 0.7415 - lr: 1.0000e-06\n",
            "Epoch 30/30\n",
            "24/24 [==============================] - 1s 39ms/step - loss: 0.4370 - accuracy: 0.7409 - val_loss: 0.5000 - val_accuracy: 0.7431 - lr: 1.0000e-06\n"
          ]
        }
      ]
    },
    {
      "cell_type": "code",
      "source": [
        "labels =[\"Reversed\",\n",
        "        \"Normal\", \n",
        "         \"Corrected\" # index 1\n",
        "        ]\n",
        "y_hat = model.predict(x_test)\n",
        "\n",
        "# Plot a random sample of 10 test images, their predicted labels and ground truth\n",
        "figure = plt.figure(figsize=(20, 8))\n",
        "for i, index in enumerate(np.random.choice(x_test.shape[0], size=15, replace=False)):\n",
        "    ax = figure.add_subplot(3, 5, i + 1, xticks=[], yticks=[])\n",
        "    # Display each image\n",
        "    ax.imshow(np.squeeze(x_test[index]))\n",
        "    predict_index = np.argmax(y_hat[index])\n",
        "    true_index = np.argmax(y_test[index])\n",
        "    # Set the title for each image\n",
        "    ax.set_title(\"{} ({})\".format(labels[predict_index], \n",
        "                                  labels[true_index]),\n",
        "                                  color=(\"green\" if predict_index == true_index else \"red\"))\n",
        "plt.show()"
      ],
      "metadata": {
        "id": "RaAGSBXAA2U5",
        "colab": {
          "base_uri": "https://localhost:8080/",
          "height": 485
        },
        "outputId": "eef9486c-bb19-41c7-b4b7-84d285069c90"
      },
      "execution_count": 112,
      "outputs": [
        {
          "output_type": "display_data",
          "data": {
            "text/plain": [
              "<Figure size 1440x576 with 15 Axes>"
            ],
            "image/png": "[encoded data removed]"
          },
          "metadata": {}
        }
      ]
    },
    {
      "cell_type": "code",
      "source": [
        "_# Plot training & validation loss values\n",
        "plt.plot(history.history['accuracy'])\n",
        "plt.plot(history.history['val_accuracy'])\n",
        "plt.title('LeNet5 Model accuracy values')\n",
        "plt.ylabel('Accuracy')\n",
        "plt.xlabel('Epoch')\n",
        "plt.legend(['Train', 'Test'], loc='upper left')\n",
        "plt.show()"
      ],
      "metadata": {
        "colab": {
          "base_uri": "https://localhost:8080/",
          "height": 295
        },
        "id": "d0dNovsoZ30J",
        "outputId": "1086b30d-5262-4378-8ba8-f2ef4d7707fb"
      },
      "execution_count": 116,
      "outputs": [
        {
          "output_type": "display_data",
          "data": {
            "text/plain": [
              "<Figure size 432x288 with 1 Axes>"
            ],
            "image/png": "[encoded data removed]"
          },
          "metadata": {
            "needs_background": "light"
          }
        }
      ]
    },
    {
      "cell_type": "code",
      "source": [
        "#model = ...  # Get model (Sequential, Functional Model, or Model subclass)\n",
        "model.save('LeNet5.h5')"
      ],
      "metadata": {
        "id": "QFKzivFF8hi9"
      },
      "execution_count": 18,
      "outputs": []
    },
    {
      "cell_type": "code",
      "source": [
        "from sklearn.tree import DecisionTreeClassifier\n",
        "from sklearn.model_selection import train_test_split\n",
        "from sklearn.metrics import classification_report, confusion_matrix"
      ],
      "metadata": {
        "id": "i3XPDnv_8RT4"
      },
      "execution_count": 107,
      "outputs": []
    },
    {
      "cell_type": "code",
      "source": [
        "classifier_tree = DecisionTreeClassifier()"
      ],
      "metadata": {
        "id": "bEAzwQZ4b7Yo"
      },
      "execution_count": 108,
      "outputs": []
    },
    {
      "cell_type": "code",
      "source": [
        "x_train.shape"
      ],
      "metadata": {
        "colab": {
          "base_uri": "https://localhost:8080/"
        },
        "id": "zPCGlFWoc8mf",
        "outputId": "e5fe7919-c0be-4afe-d4bd-fe3073d78f96"
      },
      "execution_count": 71,
      "outputs": [
        {
          "output_type": "execute_result",
          "data": {
            "text/plain": [
              "(2457, 28, 28, 3)"
            ]
          },
          "metadata": {},
          "execution_count": 71
        }
      ]
    },
    {
      "cell_type": "code",
      "source": [
        "y_train.shape"
      ],
      "metadata": {
        "colab": {
          "base_uri": "https://localhost:8080/"
        },
        "id": "fhD4HIXrdNCc",
        "outputId": "bc61657b-59a3-442d-aea6-25301f6b48db"
      },
      "execution_count": 72,
      "outputs": [
        {
          "output_type": "execute_result",
          "data": {
            "text/plain": [
              "(2457,)"
            ]
          },
          "metadata": {},
          "execution_count": 72
        }
      ]
    },
    {
      "cell_type": "code",
      "source": [
        "x_test.shape"
      ],
      "metadata": {
        "colab": {
          "base_uri": "https://localhost:8080/"
        },
        "id": "4TkCUBx0djuq",
        "outputId": "698ed610-7586-4e20-d96a-3da0a56c203b"
      },
      "execution_count": 74,
      "outputs": [
        {
          "output_type": "execute_result",
          "data": {
            "text/plain": [
              "(615, 28, 28, 3)"
            ]
          },
          "metadata": {},
          "execution_count": 74
        }
      ]
    },
    {
      "cell_type": "code",
      "source": [
        "y_test.shape"
      ],
      "metadata": {
        "colab": {
          "base_uri": "https://localhost:8080/"
        },
        "id": "X3KPhAPkdpBh",
        "outputId": "ad88607c-7785-45ea-d3c4-110df0f48368"
      },
      "execution_count": 75,
      "outputs": [
        {
          "output_type": "execute_result",
          "data": {
            "text/plain": [
              "(615,)"
            ]
          },
          "metadata": {},
          "execution_count": 75
        }
      ]
    },
    {
      "cell_type": "code",
      "source": [
        "Labels1 =[\"Reversal\", \"Corrected\"]"
      ],
      "metadata": {
        "id": "8CWl-IUeciDo"
      },
      "execution_count": 95,
      "outputs": []
    },
    {
      "cell_type": "code",
      "source": [
        "Labels2 =[\"Normal\", \"Corrected\"]"
      ],
      "metadata": {
        "id": "plaqbqFzh3sp"
      },
      "execution_count": 101,
      "outputs": []
    },
    {
      "cell_type": "code",
      "source": [
        "Labels3 =[\"Reversal\", \"Normal\"]"
      ],
      "metadata": {
        "id": "-yKJnXHmh8Mv"
      },
      "execution_count": 102,
      "outputs": []
    },
    {
      "cell_type": "code",
      "source": [
        "#(2457, 28, 28, 3) = train\n",
        "#(615, 28, 28, 3) = test\n",
        "X_train = x_train.reshape(2457,3*28*28)\n",
        "X_test = x_test.reshape(615,3*28*28)"
      ],
      "metadata": {
        "id": "qIOkpdx7eIWT"
      },
      "execution_count": 109,
      "outputs": []
    },
    {
      "cell_type": "code",
      "source": [
        "y_predict = classifier_tree.fit(X_train, y_train).predict(X_test)"
      ],
      "metadata": {
        "id": "M_p7SSk4gRrI"
      },
      "execution_count": 114,
      "outputs": []
    },
    {
      "cell_type": "code",
      "source": [
        "print(classification_report(y_test, y_predict, target_names=Labels1))\n",
        "print(confusion_matrix(y_test, y_predict))"
      ],
      "metadata": {
        "colab": {
          "base_uri": "https://localhost:8080/"
        },
        "id": "HxYrVWNTcDhJ",
        "outputId": "1b3eef48-ea2b-4a22-8c91-1c645d2d8785"
      },
      "execution_count": 115,
      "outputs": [
        {
          "output_type": "stream",
          "name": "stdout",
          "text": [
            "              precision    recall  f1-score   support\n",
            "\n",
            "    Reversal       0.76      0.79      0.77       400\n",
            "   Corrected       0.57      0.53      0.55       215\n",
            "\n",
            "    accuracy                           0.70       615\n",
            "   macro avg       0.67      0.66      0.66       615\n",
            "weighted avg       0.69      0.70      0.70       615\n",
            "\n",
            "[[314  86]\n",
            " [100 115]]\n"
          ]
        }
      ]
    },
    {
      "cell_type": "code",
      "source": [
        "print(classification_report(y_test, y_predict, target_names=Labels2))\n",
        "print(confusion_matrix(y_test, y_predict))"
      ],
      "metadata": {
        "colab": {
          "base_uri": "https://localhost:8080/"
        },
        "id": "3lSYkzPaghlC",
        "outputId": "ef0d4cd3-aa4d-455d-a077-8d8290c77ab2"
      },
      "execution_count": 103,
      "outputs": [
        {
          "output_type": "stream",
          "name": "stdout",
          "text": [
            "              precision    recall  f1-score   support\n",
            "\n",
            "      Normal       0.75      0.77      0.76       400\n",
            "   Corrected       0.55      0.53      0.54       215\n",
            "\n",
            "    accuracy                           0.68       615\n",
            "   macro avg       0.65      0.65      0.65       615\n",
            "weighted avg       0.68      0.68      0.68       615\n",
            "\n",
            "[[307  93]\n",
            " [102 113]]\n"
          ]
        }
      ]
    },
    {
      "cell_type": "code",
      "source": [
        "print(classification_report(y_test, y_predict, target_names=Labels3))\n",
        "print(confusion_matrix(y_test, y_predict))"
      ],
      "metadata": {
        "colab": {
          "base_uri": "https://localhost:8080/"
        },
        "id": "pmvmDM3DiErX",
        "outputId": "136e076f-3bbb-4ce3-edc5-195255870aad"
      },
      "execution_count": 104,
      "outputs": [
        {
          "output_type": "stream",
          "name": "stdout",
          "text": [
            "              precision    recall  f1-score   support\n",
            "\n",
            "    Reversal       0.75      0.77      0.76       400\n",
            "      Normal       0.55      0.53      0.54       215\n",
            "\n",
            "    accuracy                           0.68       615\n",
            "   macro avg       0.65      0.65      0.65       615\n",
            "weighted avg       0.68      0.68      0.68       615\n",
            "\n",
            "[[307  93]\n",
            " [102 113]]\n"
          ]
        }
      ]
    },
    {
      "cell_type": "code",
      "source": [
        "con_mat = tf.math.confusion_matrix(labels=y_test, predictions=y_predict).numpy()\n",
        "con_mat_norm = np.around(con_mat.astype('float') / con_mat.sum(axis=1)[:, np.newaxis], decimals=2)\n",
        "\n",
        "con_mat_df = pd.DataFrame(con_mat_norm,\n",
        "                     index = ['Reversed', 'Normal'], \n",
        "                     columns = ['Reversed', 'Normal'])\n",
        "\n",
        "figure = plt.figure(figsize=(8, 8))\n",
        "plt.title(\"1. Reversed Vs Normal\")\n",
        "sns.heatmap(con_mat_df, annot=True,cmap=plt.cm.Blues)\n",
        "plt.tight_layout()\n",
        "plt.ylabel('True label')\n",
        "plt.xlabel('Predicted label')\n",
        "plt.show()"
      ],
      "metadata": {
        "colab": {
          "base_uri": "https://localhost:8080/",
          "height": 599
        },
        "id": "Ccwy4DJxWTU3",
        "outputId": "2009e280-6bb5-4b31-96c0-3c8fddfc200b"
      },
      "execution_count": 100,
      "outputs": [
        {
          "output_type": "display_data",
          "data": {
            "text/plain": [
              "<Figure size 576x576 with 2 Axes>"
            ],
            "image/png": "[encoded data removed]"
          },
          "metadata": {
            "needs_background": "light"
          }
        }
      ]
    },
    {
      "cell_type": "code",
      "source": [
        "#TN, FP\n",
        "#FN, TP"
      ],
      "metadata": {
        "id": "INLrbGjNiI3T"
      },
      "execution_count": null,
      "outputs": []
    }
  ]
}