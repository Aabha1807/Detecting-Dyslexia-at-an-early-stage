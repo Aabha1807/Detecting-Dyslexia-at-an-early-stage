{
 "cells": [
  {
   "cell_type": "markdown",
   "id": "a1e53a6f-7fea-4d73-bab1-b45858a19a6a",
   "metadata": {},
   "source": [
    "# Pattern Recognition"
   ]
  },
  {
   "cell_type": "code",
   "execution_count": 1,
   "id": "f49004c1-5352-44b0-9a51-1536de1ed311",
   "metadata": {},
   "outputs": [],
   "source": [
    "import numpy as np\n",
    "import tensorflow as tf\n",
    "from tensorflow import keras\n",
    "from tensorflow.keras.preprocessing.image import ImageDataGenerator\n",
    "import PIL"
   ]
  },
  {
   "cell_type": "markdown",
   "id": "31bb2520-5eed-4a77-bb68-b7142e1707b8",
   "metadata": {},
   "source": [
    "## Data preprocessing"
   ]
  },
  {
   "cell_type": "code",
   "execution_count": 2,
   "id": "70c71601-e59f-47a6-af5f-4ad0c5804ee5",
   "metadata": {},
   "outputs": [
    {
     "data": {
      "image/png": "[encoded data removed]",
      "text/plain": [
       "<PIL.PngImagePlugin.PngImageFile image mode=L size=28x28 at 0x7FDD46381B20>"
      ]
     },
     "execution_count": 2,
     "metadata": {},
     "output_type": "execute_result"
    }
   ],
   "source": [
    "train_dir = 'CN_dataset/Train'\n",
    "validation_dir = 'CN_dataset/Test'\n",
    "\n",
    "try_img = PIL.Image.open(train_dir+'/Normal/A-0.png')\n",
    "try_img"
   ]
  },
  {
   "cell_type": "code",
   "execution_count": 3,
   "id": "15ddb34d-15b1-47e4-93aa-f2a59cdafdab",
   "metadata": {},
   "outputs": [
    {
     "name": "stdout",
     "output_type": "stream",
     "text": [
      "Mode of the data:  L\n",
      "Size of Images:  (28, 28)\n"
     ]
    }
   ],
   "source": [
    "print(\"Mode of the data: \", try_img.mode)\n",
    "print(\"Size of Images: \", try_img._size)"
   ]
  },
  {
   "cell_type": "code",
   "execution_count": 4,
   "id": "1ff57c83-308f-4871-a055-9ddebefaea6d",
   "metadata": {},
   "outputs": [
    {
     "name": "stdout",
     "output_type": "stream",
     "text": [
      "Normal:  39334\n",
      "Corrected:  65534\n",
      "Corrected:  2\n"
     ]
    }
   ],
   "source": [
    "import glob\n",
    "\n",
    "print(\"Normal: \", len(glob.glob(train_dir+'/Normal/*')))\n",
    "print(\"Corrected: \", len(glob.glob(train_dir+'/Corrected/*')))\n",
    "print(\"Corrected: \", len(glob.glob(train_dir+'/*')))"
   ]
  },
  {
   "cell_type": "code",
   "execution_count": 12,
   "id": "533b56a3",
   "metadata": {},
   "outputs": [
    {
     "name": "stdout",
     "output_type": "stream",
     "text": [
      "/Users/Aabha/Desktop/Detecting-Dyslexia-at-an-early-stage\n"
     ]
    }
   ],
   "source": [
    "!pwd"
   ]
  },
  {
   "cell_type": "code",
   "execution_count": 6,
   "id": "e1ddb81f-ff52-49c3-b4cd-0c3092151a7e",
   "metadata": {},
   "outputs": [
    {
     "name": "stdout",
     "output_type": "stream",
     "text": [
      "Found 104868 images belonging to 2 classes.\n",
      "Found 38842 images belonging to 2 classes.\n"
     ]
    }
   ],
   "source": [
    "IMAGE_SIZE = try_img._size\n",
    "BATCH_SIZE = 32\n",
    "\n",
    "train_datagen = ImageDataGenerator(rescale=1.0/255,\n",
    "                                    rotation_range=10,\n",
    "                                    # zoom_range = 0.1,\n",
    "                                    # width_shift_range=0.1,\n",
    "                                    # height_shift_range=0.1\n",
    "                                  )\n",
    "\n",
    "train_generator = train_datagen.flow_from_directory(\n",
    "    train_dir,   #path to the training dataset\n",
    "    target_size = IMAGE_SIZE,\n",
    "    batch_size = BATCH_SIZE, \n",
    "    class_mode ='binary')  #binary.. since we have two classes only\n",
    "\n",
    "validation_datagen = ImageDataGenerator(rescale=1./255)\n",
    "validation_generator = validation_datagen.flow_from_directory(\n",
    "    validation_dir,\n",
    "    target_size = IMAGE_SIZE,\n",
    "    batch_size = BATCH_SIZE,\n",
    "    class_mode='binary')"
   ]
  },
  {
   "cell_type": "markdown",
   "id": "17671b63-192e-4207-8d6c-060e34175545",
   "metadata": {},
   "source": [
    "## Model Architecture"
   ]
  },
  {
   "cell_type": "code",
   "execution_count": 7,
   "id": "231a513b-52aa-42ee-b7a4-e3ddb29c762e",
   "metadata": {},
   "outputs": [
    {
     "name": "stdout",
     "output_type": "stream",
     "text": [
      "(28, 28, 3)\n",
      "Model: \"sequential\"\n",
      "_________________________________________________________________\n",
      " Layer (type)                Output Shape              Param #   \n",
      "=================================================================\n",
      " conv2d (Conv2D)             (None, 28, 28, 1)         28        \n",
      "                                                                 \n",
      " flatten (Flatten)           (None, 784)               0         \n",
      "                                                                 \n",
      " dense (Dense)               (None, 8)                 6280      \n",
      "                                                                 \n",
      " dropout (Dropout)           (None, 8)                 0         \n",
      "                                                                 \n",
      " dense_1 (Dense)             (None, 1)                 9         \n",
      "                                                                 \n",
      "=================================================================\n",
      "Total params: 6,317\n",
      "Trainable params: 6,317\n",
      "Non-trainable params: 0\n",
      "_________________________________________________________________\n"
     ]
    }
   ],
   "source": [
    "INPUT_SHAPE = IMAGE_SIZE + (3, )\n",
    "print(INPUT_SHAPE)\n",
    "\n",
    "model = tf.keras.models.Sequential([                               \n",
    "    tf.keras.layers.Conv2D(1, (3, 3), activation='relu', input_shape=INPUT_SHAPE, padding=\"same\"),\n",
    "    tf.keras.layers.Flatten(),\n",
    "    tf.keras.layers.Dense(8, activation='relu'),\n",
    "    tf.keras.layers.Dropout(0.25),\n",
    "    tf.keras.layers.Dense(1, activation='sigmoid')\n",
    "])\n",
    "\n",
    "model.summary()"
   ]
  },
  {
   "cell_type": "code",
   "execution_count": 8,
   "id": "378bb4d5-ca75-4e45-b3c5-a23230877dea",
   "metadata": {},
   "outputs": [],
   "source": [
    "model.compile(\n",
    "    loss=tf.keras.losses.BinaryCrossentropy(from_logits=True), \n",
    "    optimizer='adam', \n",
    "    metrics=['accuracy'])"
   ]
  },
  {
   "cell_type": "code",
   "execution_count": 9,
   "id": "5e5b42c9-c120-4583-923d-1774b5ef09a0",
   "metadata": {},
   "outputs": [],
   "source": [
    "STEPS_PER_EPOCH = 86115//BATCH_SIZE\n",
    "VALIDATION_STEPS = 37439//BATCH_SIZE"
   ]
  },
  {
   "cell_type": "code",
   "execution_count": 10,
   "id": "4d1a7632-e1de-4fd0-a1a2-13289c770541",
   "metadata": {},
   "outputs": [
    {
     "name": "stdout",
     "output_type": "stream",
     "text": [
      "Epoch 1/5\n"
     ]
    },
    {
     "name": "stderr",
     "output_type": "stream",
     "text": [
      "/Users/Aabha/opt/anaconda3/lib/python3.8/site-packages/tensorflow/python/util/dispatch.py:1096: UserWarning: \"`binary_crossentropy` received `from_logits=True`, but the `output` argument was produced by a sigmoid or softmax activation and thus does not represent logits. Was this intended?\"\n",
      "  return dispatch_target(*args, **kwargs)\n"
     ]
    },
    {
     "name": "stdout",
     "output_type": "stream",
     "text": [
      "2691/2691 [==============================] - 125s 46ms/step - loss: 0.3920 - accuracy: 0.8255 - val_loss: 0.3766 - val_accuracy: 0.8377\n",
      "Epoch 2/5\n",
      "2691/2691 [==============================] - 125s 46ms/step - loss: 0.3327 - accuracy: 0.8564 - val_loss: 0.4265 - val_accuracy: 0.8209\n",
      "Epoch 3/5\n",
      "2691/2691 [==============================] - 172s 64ms/step - loss: 0.3142 - accuracy: 0.8638 - val_loss: 0.4202 - val_accuracy: 0.8204\n",
      "Epoch 4/5\n",
      "2691/2691 [==============================] - 173s 64ms/step - loss: 0.3086 - accuracy: 0.8654 - val_loss: 0.3267 - val_accuracy: 0.8585\n",
      "Epoch 5/5\n",
      "2691/2691 [==============================] - 127s 47ms/step - loss: 0.3050 - accuracy: 0.8675 - val_loss: 0.3622 - val_accuracy: 0.8451\n"
     ]
    }
   ],
   "source": [
    "history = model.fit(train_generator, \n",
    "            epochs=5,\n",
    "            steps_per_epoch = STEPS_PER_EPOCH,\n",
    "            validation_data = validation_generator,\n",
    "            validation_steps = VALIDATION_STEPS, \n",
    "            verbose=1)"
   ]
  },
  {
   "cell_type": "markdown",
   "id": "97494d8f-6e34-4d9c-ac9a-6209ea198808",
   "metadata": {},
   "source": [
    "# Testing with custom input"
   ]
  },
  {
   "cell_type": "code",
   "execution_count": 12,
   "id": "2fa0c512",
   "metadata": {},
   "outputs": [
    {
     "data": {
      "text/plain": [
       "<matplotlib.image.AxesImage at 0x7fdd339468e0>"
      ]
     },
     "execution_count": 12,
     "metadata": {},
     "output_type": "execute_result"
    },
    {
     "data": {
      "image/png": "[encoded data removed]",
      "text/plain": [
       "<Figure size 432x288 with 1 Axes>"
      ]
     },
     "metadata": {
      "needs_background": "light"
     },
     "output_type": "display_data"
    }
   ],
   "source": [
    "try_img = PIL.Image.open(validation_dir+'/Normal/A-102.png')\n",
    "try_img\n",
    "\n",
    "import cv2\n",
    "img = cv2.imread(validation_dir+'/Corrected/4_1.png')\n",
    "import matplotlib.pyplot as plt\n",
    "\n",
    "plt.imshow(img)"
   ]
  },
  {
   "cell_type": "code",
   "execution_count": 13,
   "id": "555122b8",
   "metadata": {},
   "outputs": [
    {
     "data": {
      "text/plain": [
       "(28, 28, 3)"
      ]
     },
     "execution_count": 13,
     "metadata": {},
     "output_type": "execute_result"
    }
   ],
   "source": [
    "img = cv2.resize(img,(28,28))\n",
    "img.shape"
   ]
  },
  {
   "cell_type": "code",
   "execution_count": 14,
   "id": "890e426f",
   "metadata": {},
   "outputs": [],
   "source": [
    "import numpy as np\n",
    "\n",
    "img = np.reshape(img,[1,28,28,3])"
   ]
  },
  {
   "cell_type": "code",
   "execution_count": 15,
   "id": "689b5c46-bfda-42fe-ba47-01bd0f524864",
   "metadata": {},
   "outputs": [
    {
     "data": {
      "text/plain": [
       "array([[0.539459]], dtype=float32)"
      ]
     },
     "execution_count": 15,
     "metadata": {},
     "output_type": "execute_result"
    }
   ],
   "source": [
    "model.predict(img)"
   ]
  },
  {
   "cell_type": "code",
   "execution_count": null,
   "id": "260fcdfe",
   "metadata": {},
   "outputs": [],
   "source": []
  }
 ],
 "metadata": {
  "kernelspec": {
   "display_name": "Python 3",
   "language": "python",
   "name": "python3"
  },
  "language_info": {
   "codemirror_mode": {
    "name": "ipython",
    "version": 3
   },
   "file_extension": ".py",
   "mimetype": "text/x-python",
   "name": "python",
   "nbconvert_exporter": "python",
   "pygments_lexer": "ipython3",
   "version": "3.8.8"
  },
  "vscode": {
   "interpreter": {
    "hash": "aee8b7b246df8f9039afb4144a1f6fd8d2ca17a180786b69acc140d282b71a49"
   }
  }
 },
 "nbformat": 4,
 "nbformat_minor": 5
}
