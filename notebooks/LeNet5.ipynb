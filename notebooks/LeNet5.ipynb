{
  "nbformat": 4,
  "nbformat_minor": 0,
  "metadata": {
    "colab": {
      "name": "LeNet5.ipynb",
      "provenance": [],
      "collapsed_sections": []
    },
    "kernelspec": {
      "name": "python3",
      "display_name": "Python 3"
    },
    "language_info": {
      "name": "python"
    }
  },
  "cells": [
    {
      "cell_type": "code",
      "execution_count": null,
      "metadata": {
        "id": "Vj5-I63d9V7K"
      },
      "outputs": [],
      "source": [
        "import numpy as np # linear algebra\n",
        "import pandas as pd # data processing, CSV file I/O (e.g. pd.read_csv)\n",
        "import math\n",
        "import cv2\n",
        "import matplotlib.pyplot as plt\n",
        "import os\n",
        "import seaborn as sns\n",
        "from PIL import Image\n",
        "from scipy import misc\n",
        "from os import listdir\n",
        "from os.path import isfile, join\n",
        "import numpy as np\n",
        "from scipy import misc\n",
        "from random import shuffle\n",
        "from collections import Counter\n",
        "import matplotlib.pyplot as plt\n",
        "from sklearn.decomposition import PCA\n",
        "from sklearn.manifold import TSNE\n",
        "import tensorflow as tf\n",
        "from keras.models import Sequential\n",
        "from keras.layers import Conv2D, MaxPooling2D,AvgPool2D\n",
        "from keras.layers import Activation, Dropout, Flatten, Dense\n",
        "from keras.utils.np_utils import to_categorical"
      ]
    },
    {
      "cell_type": "code",
      "source": [
        "os.listdir('/content/drive/MyDrive/Train')"
      ],
      "metadata": {
        "colab": {
          "base_uri": "https://localhost:8080/"
        },
        "id": "E-u2JdLD9W3U",
        "outputId": "1e34f432-c7cc-422a-957d-0ac56469c144"
      },
      "execution_count": null,
      "outputs": [
        {
          "output_type": "execute_result",
          "data": {
            "text/plain": [
              "['Reversed', 'Normal', 'Corrected']"
            ]
          },
          "metadata": {},
          "execution_count": 100
        }
      ]
    },
    {
      "cell_type": "code",
      "source": [
        "im =Image.open('/content/drive/MyDrive/Train/Normal/A-0.png').resize((128,128))\n",
        "im"
      ],
      "metadata": {
        "colab": {
          "base_uri": "https://localhost:8080/",
          "height": 145
        },
        "id": "Q8JYxCme9nPU",
        "outputId": "2bdce4df-49e2-46b1-a9da-063e63ca384d"
      },
      "execution_count": null,
      "outputs": [
        {
          "output_type": "execute_result",
          "data": {
            "text/plain": [
              "<PIL.Image.Image image mode=L size=128x128 at 0x7FF89CF33890>"
            ],
            "image/png": "[encoded data removed]"
          },
          "metadata": {},
          "execution_count": 101
        }
      ]
    },
    {
      "cell_type": "code",
      "source": [
        "Corrected = os.listdir('/content/drive/MyDrive/Train/Corrected')\n",
        "Normal = os.listdir('/content/drive/MyDrive/Train/Normal')\n",
        "Reversal = os.listdir('/content/drive/MyDrive/Train/Reversed')\n",
        "data=np.concatenate([Corrected,Normal,Reversal])\n",
        "len(data)==len(Corrected)+len(Normal)+len(Reversal)"
      ],
      "metadata": {
        "colab": {
          "base_uri": "https://localhost:8080/"
        },
        "id": "HC78HDpj9vGU",
        "outputId": "d4395b5f-a092-4943-9ea7-5152d251010d"
      },
      "execution_count": null,
      "outputs": [
        {
          "output_type": "execute_result",
          "data": {
            "text/plain": [
              "True"
            ]
          },
          "metadata": {},
          "execution_count": 102
        }
      ]
    },
    {
      "cell_type": "code",
      "source": [
        "target_x=np.full(len(Normal),1)\n",
        "target_y=np.full(len(Reversal),0)\n",
        "target_z=np.full(len(Corrected),0)\n",
        "data_target=np.concatenate([target_x,target_y,target_z])\n",
        "len(data_target)==len(target_x)+len(target_y)+len(target_z)"
      ],
      "metadata": {
        "colab": {
          "base_uri": "https://localhost:8080/"
        },
        "id": "0LlwZ6RI-N04",
        "outputId": "4da996be-ed07-4c53-dd9b-146bd833cfc8"
      },
      "execution_count": null,
      "outputs": [
        {
          "output_type": "execute_result",
          "data": {
            "text/plain": [
              "True"
            ]
          },
          "metadata": {},
          "execution_count": 103
        }
      ]
    },
    {
      "cell_type": "code",
      "source": [
        "data_target"
      ],
      "metadata": {
        "colab": {
          "base_uri": "https://localhost:8080/"
        },
        "id": "tKsewcDt_a_9",
        "outputId": "0b2c670f-7bbc-471e-85ed-41449847903b"
      },
      "execution_count": null,
      "outputs": [
        {
          "output_type": "execute_result",
          "data": {
            "text/plain": [
              "array([1, 1, 1, ..., 0, 0, 0])"
            ]
          },
          "metadata": {},
          "execution_count": 104
        }
      ]
    },
    {
      "cell_type": "code",
      "source": [
        "Corrected_values=os.listdir('/content/drive/MyDrive/Train/Corrected')\n",
        "Normal_values=os.listdir('/content/drive/MyDrive/Train/Normal')\n",
        "Reversal_values=os.listdir('/content/drive/MyDrive/Train/Reversed')\n",
        "X_data =[]\n",
        "for file in Corrected_values:\n",
        "    img = cv2.imread('/content/drive/MyDrive/Train/Corrected/'+file)\n",
        "    face = cv2.resize(img, (28, 28))\n",
        "    (b, g, r)=cv2.split(face) \n",
        "    img=cv2.merge([r,g,b])\n",
        "    X_data.append(img)\n",
        "for file in Normal_values:\n",
        "    img = cv2.imread('/content/drive/MyDrive/Train/Normal/'+file)\n",
        "    face = cv2.resize(img, (28, 28))\n",
        "    (b, g, r)=cv2.split(face) \n",
        "    img=cv2.merge([r,g,b])\n",
        "    X_data.append(img)\n",
        "for file in Reversal_values:\n",
        "    img = cv2.imread('/content/drive/MyDrive/Train/Reversed/'+file)\n",
        "    face = cv2.resize(img, (28, 28))\n",
        "    (b, g, r)=cv2.split(face) \n",
        "    img=cv2.merge([r,g,b])\n",
        "    X_data.append(img)\n",
        "\n",
        "len(X_data)==len(data)==len(data_target)"
      ],
      "metadata": {
        "id": "zNftTCQv_ftM",
        "colab": {
          "base_uri": "https://localhost:8080/"
        },
        "outputId": "552b24d5-4946-4cca-fd40-f380323cc520"
      },
      "execution_count": null,
      "outputs": [
        {
          "output_type": "execute_result",
          "data": {
            "text/plain": [
              "True"
            ]
          },
          "metadata": {},
          "execution_count": 105
        }
      ]
    },
    {
      "cell_type": "code",
      "source": [
        "X = np.squeeze(X_data)\n",
        "X.shape\n",
        "# normalize data\n",
        "X = X.astype('float32')\n",
        "X /= 255"
      ],
      "metadata": {
        "id": "gvySmBJ1ALjj"
      },
      "execution_count": null,
      "outputs": []
    },
    {
      "cell_type": "code",
      "source": [
        "from sklearn.model_selection import train_test_split\n",
        "\n",
        "x_train, x_test, y_train, y_test = train_test_split(X, data_target, test_size = 0.2, random_state = 0)"
      ],
      "metadata": {
        "id": "IUad8wNCAkZI"
      },
      "execution_count": null,
      "outputs": []
    },
    {
      "cell_type": "code",
      "source": [
        "model = Sequential()\n",
        "model.add(Conv2D(filters=32, kernel_size=(5,5), padding='same', activation='relu', input_shape=(28,28, 3)))\n",
        "model.add(MaxPooling2D(strides=2))\n",
        "model.add(Conv2D(filters=48, kernel_size=(5,5), padding='valid', activation='relu'))\n",
        "model.add(MaxPooling2D(strides=2))\n",
        "model.add(Flatten())\n",
        "model.add(Dense(256, activation='relu'))\n",
        "model.add(Dense(84, activation='relu'))\n",
        "model.add(Dense(1, activation='softmax'))\n",
        "\n",
        "\n",
        "model.build()\n",
        "model.summary()"
      ],
      "metadata": {
        "id": "Lol1T9iUAlde",
        "colab": {
          "base_uri": "https://localhost:8080/"
        },
        "outputId": "57437516-d59e-441c-f799-41e613ee6bb5"
      },
      "execution_count": null,
      "outputs": [
        {
          "output_type": "stream",
          "name": "stdout",
          "text": [
            "Model: \"sequential_9\"\n",
            "_________________________________________________________________\n",
            " Layer (type)                Output Shape              Param #   \n",
            "=================================================================\n",
            " conv2d_25 (Conv2D)          (None, 28, 28, 32)        2432      \n",
            "                                                                 \n",
            " max_pooling2d_10 (MaxPoolin  (None, 14, 14, 32)       0         \n",
            " g2D)                                                            \n",
            "                                                                 \n",
            " conv2d_26 (Conv2D)          (None, 10, 10, 48)        38448     \n",
            "                                                                 \n",
            " max_pooling2d_11 (MaxPoolin  (None, 5, 5, 48)         0         \n",
            " g2D)                                                            \n",
            "                                                                 \n",
            " flatten_7 (Flatten)         (None, 1200)              0         \n",
            "                                                                 \n",
            " dense_19 (Dense)            (None, 256)               307456    \n",
            "                                                                 \n",
            " dense_20 (Dense)            (None, 84)                21588     \n",
            "                                                                 \n",
            " dense_21 (Dense)            (None, 1)                 85        \n",
            "                                                                 \n",
            "=================================================================\n",
            "Total params: 370,009\n",
            "Trainable params: 370,009\n",
            "Non-trainable params: 0\n",
            "_________________________________________________________________\n"
          ]
        }
      ]
    },
    {
      "cell_type": "code",
      "source": [
        "from tensorflow.keras.optimizers import Adam\n",
        "adam = Adam(lr=5e-4)\n",
        "model.compile(loss='categorical_crossentropy', metrics=['accuracy'], optimizer=adam)"
      ],
      "metadata": {
        "id": "JJi92Y-rAnXx",
        "colab": {
          "base_uri": "https://localhost:8080/"
        },
        "outputId": "2989f323-415f-406f-9a86-ebc6a72d411a"
      },
      "execution_count": null,
      "outputs": [
        {
          "output_type": "stream",
          "name": "stderr",
          "text": [
            "/usr/local/lib/python3.7/dist-packages/keras/optimizer_v2/adam.py:105: UserWarning: The `lr` argument is deprecated, use `learning_rate` instead.\n",
            "  super(Adam, self).__init__(name, **kwargs)\n"
          ]
        }
      ]
    },
    {
      "cell_type": "code",
      "source": [
        "# Set a learning rate annealer\n",
        "from keras.callbacks import ReduceLROnPlateau\n",
        "reduce_lr = ReduceLROnPlateau(monitor='val_acc', \n",
        "                                patience=3, \n",
        "                                verbose=1, \n",
        "                                factor=0.2, \n",
        "                                min_lr=1e-6)"
      ],
      "metadata": {
        "id": "qLoJ5ZCaApL6"
      },
      "execution_count": null,
      "outputs": []
    },
    {
      "cell_type": "code",
      "source": [
        "# Data Augmentation\n",
        "from keras.preprocessing.image import ImageDataGenerator\n",
        "datagen = ImageDataGenerator(\n",
        "            rotation_range=10, \n",
        "            width_shift_range=0.1, \n",
        "            height_shift_range=0.1, \n",
        "            zoom_range=0.1)\n",
        "datagen.fit(x_train)"
      ],
      "metadata": {
        "id": "sokjE8MoArUf"
      },
      "execution_count": null,
      "outputs": []
    },
    {
      "cell_type": "code",
      "source": [
        "history=model.fit(x_train, y_train, batch_size=10, steps_per_epoch=len(x_train)/100, epochs=30, validation_data=(x_test, y_test), callbacks=[reduce_lr])"
      ],
      "metadata": {
        "id": "CyXXKdy6Aw8Y",
        "colab": {
          "base_uri": "https://localhost:8080/"
        },
        "outputId": "128c1114-abab-47db-e304-da0b5ce5485c"
      },
      "execution_count": null,
      "outputs": [
        {
          "output_type": "stream",
          "name": "stdout",
          "text": [
            "Epoch 1/30\n",
            "24/24 [============================>.] - ETA: 0s - loss: 0.0000e+00 - accuracy: 0.3417WARNING:tensorflow:Learning rate reduction is conditioned on metric `val_acc` which is not available. Available metrics are: loss,accuracy,val_loss,val_accuracy,lr\n",
            "24/24 [==============================] - 2s 42ms/step - loss: 0.0000e+00 - accuracy: 0.3520 - val_loss: 0.0000e+00 - val_accuracy: 0.3805 - lr: 5.0000e-04\n",
            "Epoch 2/30\n",
            "24/24 [============================>.] - ETA: 0s - loss: 0.0000e+00 - accuracy: 0.3208WARNING:tensorflow:Learning rate reduction is conditioned on metric `val_acc` which is not available. Available metrics are: loss,accuracy,val_loss,val_accuracy,lr\n",
            "24/24 [==============================] - 1s 37ms/step - loss: 0.0000e+00 - accuracy: 0.3280 - val_loss: 0.0000e+00 - val_accuracy: 0.3805 - lr: 5.0000e-04\n",
            "Epoch 3/30\n",
            "24/24 [============================>.] - ETA: 0s - loss: 0.0000e+00 - accuracy: 0.3375WARNING:tensorflow:Learning rate reduction is conditioned on metric `val_acc` which is not available. Available metrics are: loss,accuracy,val_loss,val_accuracy,lr\n",
            "24/24 [==============================] - 1s 32ms/step - loss: 0.0000e+00 - accuracy: 0.3360 - val_loss: 0.0000e+00 - val_accuracy: 0.3805 - lr: 5.0000e-04\n",
            "Epoch 4/30\n",
            "25/24 [==============================] - ETA: 0s - loss: 0.0000e+00 - accuracy: 0.3680WARNING:tensorflow:Learning rate reduction is conditioned on metric `val_acc` which is not available. Available metrics are: loss,accuracy,val_loss,val_accuracy,lr\n",
            "24/24 [==============================] - 1s 31ms/step - loss: 0.0000e+00 - accuracy: 0.3680 - val_loss: 0.0000e+00 - val_accuracy: 0.3805 - lr: 5.0000e-04\n",
            "Epoch 5/30\n",
            "25/24 [==============================] - ETA: 0s - loss: 0.0000e+00 - accuracy: 0.3320WARNING:tensorflow:Learning rate reduction is conditioned on metric `val_acc` which is not available. Available metrics are: loss,accuracy,val_loss,val_accuracy,lr\n",
            "24/24 [==============================] - 1s 31ms/step - loss: 0.0000e+00 - accuracy: 0.3320 - val_loss: 0.0000e+00 - val_accuracy: 0.3805 - lr: 5.0000e-04\n",
            "Epoch 6/30\n",
            "24/24 [============================>.] - ETA: 0s - loss: 0.0000e+00 - accuracy: 0.2958WARNING:tensorflow:Learning rate reduction is conditioned on metric `val_acc` which is not available. Available metrics are: loss,accuracy,val_loss,val_accuracy,lr\n",
            "24/24 [==============================] - 1s 32ms/step - loss: 0.0000e+00 - accuracy: 0.3040 - val_loss: 0.0000e+00 - val_accuracy: 0.3805 - lr: 5.0000e-04\n",
            "Epoch 7/30\n",
            "25/24 [==============================] - ETA: 0s - loss: 0.0000e+00 - accuracy: 0.3200WARNING:tensorflow:Learning rate reduction is conditioned on metric `val_acc` which is not available. Available metrics are: loss,accuracy,val_loss,val_accuracy,lr\n",
            "24/24 [==============================] - 1s 34ms/step - loss: 0.0000e+00 - accuracy: 0.3200 - val_loss: 0.0000e+00 - val_accuracy: 0.3805 - lr: 5.0000e-04\n",
            "Epoch 8/30\n",
            "25/24 [==============================] - ETA: 0s - loss: 0.0000e+00 - accuracy: 0.4160WARNING:tensorflow:Learning rate reduction is conditioned on metric `val_acc` which is not available. Available metrics are: loss,accuracy,val_loss,val_accuracy,lr\n",
            "24/24 [==============================] - 1s 34ms/step - loss: 0.0000e+00 - accuracy: 0.4160 - val_loss: 0.0000e+00 - val_accuracy: 0.3805 - lr: 5.0000e-04\n",
            "Epoch 9/30\n",
            "25/24 [==============================] - ETA: 0s - loss: 0.0000e+00 - accuracy: 0.2920WARNING:tensorflow:Learning rate reduction is conditioned on metric `val_acc` which is not available. Available metrics are: loss,accuracy,val_loss,val_accuracy,lr\n",
            "24/24 [==============================] - 1s 33ms/step - loss: 0.0000e+00 - accuracy: 0.2920 - val_loss: 0.0000e+00 - val_accuracy: 0.3805 - lr: 5.0000e-04\n",
            "Epoch 10/30\n",
            "25/24 [==============================] - ETA: 0s - loss: 0.0000e+00 - accuracy: 0.3563WARNING:tensorflow:Learning rate reduction is conditioned on metric `val_acc` which is not available. Available metrics are: loss,accuracy,val_loss,val_accuracy,lr\n",
            "24/24 [==============================] - 1s 35ms/step - loss: 0.0000e+00 - accuracy: 0.3563 - val_loss: 0.0000e+00 - val_accuracy: 0.3805 - lr: 5.0000e-04\n",
            "Epoch 11/30\n",
            "24/24 [============================>.] - ETA: 0s - loss: 0.0000e+00 - accuracy: 0.3708WARNING:tensorflow:Learning rate reduction is conditioned on metric `val_acc` which is not available. Available metrics are: loss,accuracy,val_loss,val_accuracy,lr\n",
            "24/24 [==============================] - 1s 33ms/step - loss: 0.0000e+00 - accuracy: 0.3640 - val_loss: 0.0000e+00 - val_accuracy: 0.3805 - lr: 5.0000e-04\n",
            "Epoch 12/30\n",
            "25/24 [==============================] - ETA: 0s - loss: 0.0000e+00 - accuracy: 0.3200WARNING:tensorflow:Learning rate reduction is conditioned on metric `val_acc` which is not available. Available metrics are: loss,accuracy,val_loss,val_accuracy,lr\n",
            "24/24 [==============================] - 1s 33ms/step - loss: 0.0000e+00 - accuracy: 0.3200 - val_loss: 0.0000e+00 - val_accuracy: 0.3805 - lr: 5.0000e-04\n",
            "Epoch 13/30\n",
            "25/24 [==============================] - ETA: 0s - loss: 0.0000e+00 - accuracy: 0.3440WARNING:tensorflow:Learning rate reduction is conditioned on metric `val_acc` which is not available. Available metrics are: loss,accuracy,val_loss,val_accuracy,lr\n",
            "24/24 [==============================] - 1s 33ms/step - loss: 0.0000e+00 - accuracy: 0.3440 - val_loss: 0.0000e+00 - val_accuracy: 0.3805 - lr: 5.0000e-04\n",
            "Epoch 14/30\n",
            "25/24 [==============================] - ETA: 0s - loss: 0.0000e+00 - accuracy: 0.3400WARNING:tensorflow:Learning rate reduction is conditioned on metric `val_acc` which is not available. Available metrics are: loss,accuracy,val_loss,val_accuracy,lr\n",
            "24/24 [==============================] - 1s 32ms/step - loss: 0.0000e+00 - accuracy: 0.3400 - val_loss: 0.0000e+00 - val_accuracy: 0.3805 - lr: 5.0000e-04\n",
            "Epoch 15/30\n",
            "25/24 [==============================] - ETA: 0s - loss: 0.0000e+00 - accuracy: 0.3680WARNING:tensorflow:Learning rate reduction is conditioned on metric `val_acc` which is not available. Available metrics are: loss,accuracy,val_loss,val_accuracy,lr\n",
            "24/24 [==============================] - 1s 33ms/step - loss: 0.0000e+00 - accuracy: 0.3680 - val_loss: 0.0000e+00 - val_accuracy: 0.3805 - lr: 5.0000e-04\n",
            "Epoch 16/30\n",
            "25/24 [==============================] - ETA: 0s - loss: 0.0000e+00 - accuracy: 0.3120WARNING:tensorflow:Learning rate reduction is conditioned on metric `val_acc` which is not available. Available metrics are: loss,accuracy,val_loss,val_accuracy,lr\n",
            "24/24 [==============================] - 1s 33ms/step - loss: 0.0000e+00 - accuracy: 0.3120 - val_loss: 0.0000e+00 - val_accuracy: 0.3805 - lr: 5.0000e-04\n",
            "Epoch 17/30\n",
            "25/24 [==============================] - ETA: 0s - loss: 0.0000e+00 - accuracy: 0.3040WARNING:tensorflow:Learning rate reduction is conditioned on metric `val_acc` which is not available. Available metrics are: loss,accuracy,val_loss,val_accuracy,lr\n",
            "24/24 [==============================] - 1s 33ms/step - loss: 0.0000e+00 - accuracy: 0.3040 - val_loss: 0.0000e+00 - val_accuracy: 0.3805 - lr: 5.0000e-04\n",
            "Epoch 18/30\n",
            "24/24 [============================>.] - ETA: 0s - loss: 0.0000e+00 - accuracy: 0.3583WARNING:tensorflow:Learning rate reduction is conditioned on metric `val_acc` which is not available. Available metrics are: loss,accuracy,val_loss,val_accuracy,lr\n",
            "24/24 [==============================] - 1s 34ms/step - loss: 0.0000e+00 - accuracy: 0.3560 - val_loss: 0.0000e+00 - val_accuracy: 0.3805 - lr: 5.0000e-04\n",
            "Epoch 19/30\n",
            "25/24 [==============================] - ETA: 0s - loss: 0.0000e+00 - accuracy: 0.3600WARNING:tensorflow:Learning rate reduction is conditioned on metric `val_acc` which is not available. Available metrics are: loss,accuracy,val_loss,val_accuracy,lr\n",
            "24/24 [==============================] - 1s 33ms/step - loss: 0.0000e+00 - accuracy: 0.3600 - val_loss: 0.0000e+00 - val_accuracy: 0.3805 - lr: 5.0000e-04\n",
            "Epoch 20/30\n",
            "25/24 [==============================] - ETA: 0s - loss: 0.0000e+00 - accuracy: 0.3401WARNING:tensorflow:Learning rate reduction is conditioned on metric `val_acc` which is not available. Available metrics are: loss,accuracy,val_loss,val_accuracy,lr\n",
            "24/24 [==============================] - 1s 33ms/step - loss: 0.0000e+00 - accuracy: 0.3401 - val_loss: 0.0000e+00 - val_accuracy: 0.3805 - lr: 5.0000e-04\n",
            "Epoch 21/30\n",
            "24/24 [============================>.] - ETA: 0s - loss: 0.0000e+00 - accuracy: 0.3292WARNING:tensorflow:Learning rate reduction is conditioned on metric `val_acc` which is not available. Available metrics are: loss,accuracy,val_loss,val_accuracy,lr\n",
            "24/24 [==============================] - 1s 33ms/step - loss: 0.0000e+00 - accuracy: 0.3280 - val_loss: 0.0000e+00 - val_accuracy: 0.3805 - lr: 5.0000e-04\n",
            "Epoch 22/30\n",
            "25/24 [==============================] - ETA: 0s - loss: 0.0000e+00 - accuracy: 0.3760WARNING:tensorflow:Learning rate reduction is conditioned on metric `val_acc` which is not available. Available metrics are: loss,accuracy,val_loss,val_accuracy,lr\n",
            "24/24 [==============================] - 1s 34ms/step - loss: 0.0000e+00 - accuracy: 0.3760 - val_loss: 0.0000e+00 - val_accuracy: 0.3805 - lr: 5.0000e-04\n",
            "Epoch 23/30\n",
            "25/24 [==============================] - ETA: 0s - loss: 0.0000e+00 - accuracy: 0.3160WARNING:tensorflow:Learning rate reduction is conditioned on metric `val_acc` which is not available. Available metrics are: loss,accuracy,val_loss,val_accuracy,lr\n",
            "24/24 [==============================] - 1s 34ms/step - loss: 0.0000e+00 - accuracy: 0.3160 - val_loss: 0.0000e+00 - val_accuracy: 0.3805 - lr: 5.0000e-04\n",
            "Epoch 24/30\n",
            "25/24 [==============================] - ETA: 0s - loss: 0.0000e+00 - accuracy: 0.3320WARNING:tensorflow:Learning rate reduction is conditioned on metric `val_acc` which is not available. Available metrics are: loss,accuracy,val_loss,val_accuracy,lr\n",
            "24/24 [==============================] - 1s 34ms/step - loss: 0.0000e+00 - accuracy: 0.3320 - val_loss: 0.0000e+00 - val_accuracy: 0.3805 - lr: 5.0000e-04\n",
            "Epoch 25/30\n",
            "25/24 [==============================] - ETA: 0s - loss: 0.0000e+00 - accuracy: 0.3440WARNING:tensorflow:Learning rate reduction is conditioned on metric `val_acc` which is not available. Available metrics are: loss,accuracy,val_loss,val_accuracy,lr\n",
            "24/24 [==============================] - 1s 35ms/step - loss: 0.0000e+00 - accuracy: 0.3440 - val_loss: 0.0000e+00 - val_accuracy: 0.3805 - lr: 5.0000e-04\n",
            "Epoch 26/30\n",
            "25/24 [==============================] - ETA: 0s - loss: 0.0000e+00 - accuracy: 0.3640WARNING:tensorflow:Learning rate reduction is conditioned on metric `val_acc` which is not available. Available metrics are: loss,accuracy,val_loss,val_accuracy,lr\n",
            "24/24 [==============================] - 1s 33ms/step - loss: 0.0000e+00 - accuracy: 0.3640 - val_loss: 0.0000e+00 - val_accuracy: 0.3805 - lr: 5.0000e-04\n",
            "Epoch 27/30\n",
            "25/24 [==============================] - ETA: 0s - loss: 0.0000e+00 - accuracy: 0.3800WARNING:tensorflow:Learning rate reduction is conditioned on metric `val_acc` which is not available. Available metrics are: loss,accuracy,val_loss,val_accuracy,lr\n",
            "24/24 [==============================] - 1s 34ms/step - loss: 0.0000e+00 - accuracy: 0.3800 - val_loss: 0.0000e+00 - val_accuracy: 0.3805 - lr: 5.0000e-04\n",
            "Epoch 28/30\n",
            "25/24 [==============================] - ETA: 0s - loss: 0.0000e+00 - accuracy: 0.3040WARNING:tensorflow:Learning rate reduction is conditioned on metric `val_acc` which is not available. Available metrics are: loss,accuracy,val_loss,val_accuracy,lr\n",
            "24/24 [==============================] - 1s 33ms/step - loss: 0.0000e+00 - accuracy: 0.3040 - val_loss: 0.0000e+00 - val_accuracy: 0.3805 - lr: 5.0000e-04\n",
            "Epoch 29/30\n",
            "25/24 [==============================] - ETA: 0s - loss: 0.0000e+00 - accuracy: 0.3720WARNING:tensorflow:Learning rate reduction is conditioned on metric `val_acc` which is not available. Available metrics are: loss,accuracy,val_loss,val_accuracy,lr\n",
            "24/24 [==============================] - 1s 33ms/step - loss: 0.0000e+00 - accuracy: 0.3720 - val_loss: 0.0000e+00 - val_accuracy: 0.3805 - lr: 5.0000e-04\n",
            "Epoch 30/30\n",
            "25/24 [==============================] - ETA: 0s - loss: 0.0000e+00 - accuracy: 0.3320WARNING:tensorflow:Learning rate reduction is conditioned on metric `val_acc` which is not available. Available metrics are: loss,accuracy,val_loss,val_accuracy,lr\n",
            "24/24 [==============================] - 1s 33ms/step - loss: 0.0000e+00 - accuracy: 0.3320 - val_loss: 0.0000e+00 - val_accuracy: 0.3805 - lr: 5.0000e-04\n"
          ]
        }
      ]
    },
    {
      "cell_type": "code",
      "source": [
        "labels =[\"Reversal\", \"Corrected\",\n",
        "        \"Normal\",      # index 1\n",
        "        ]\n",
        "y_hat = model.predict(x_test)\n",
        "\n",
        "# Plot a random sample of 10 test images, their predicted labels and ground truth\n",
        "figure = plt.figure(figsize=(20, 8))\n",
        "for i, index in enumerate(np.random.choice(x_test.shape[0], size=15, replace=False)):\n",
        "    ax = figure.add_subplot(3, 5, i + 1, xticks=[], yticks=[])\n",
        "    # Display each image\n",
        "    ax.imshow(np.squeeze(x_test[index]))\n",
        "    predict_index = np.argmax(y_hat[index])\n",
        "    true_index = np.argmax(y_test[index])\n",
        "    # Set the title for each image\n",
        "    ax.set_title(\"{} ({})\".format(labels[predict_index], \n",
        "                                  labels[true_index]),\n",
        "                                  color=(\"green\" if predict_index == true_index else \"red\"))\n",
        "plt.show()"
      ],
      "metadata": {
        "id": "RaAGSBXAA2U5",
        "colab": {
          "base_uri": "https://localhost:8080/",
          "height": 485
        },
        "outputId": "3c0fc665-98a1-480e-af78-28782130960a"
      },
      "execution_count": null,
      "outputs": [
        {
          "output_type": "display_data",
          "data": {
            "text/plain": [
              "<Figure size 1440x576 with 15 Axes>"
            ],
            "image/png": "[encoded data removed]"
          },
          "metadata": {}
        }
      ]
    },
    {
      "cell_type": "code",
      "source": [
        "from sklearn import metrics\n",
        "\n",
        "print(metrics.classification_report(y_test, y_hat, labels=np.unique(y_hat)))"
      ],
      "metadata": {
        "id": "VdzB7ZelA5VA",
        "colab": {
          "base_uri": "https://localhost:8080/"
        },
        "outputId": "db16fb14-1864-4fe2-dcaf-80ce50a686a7"
      },
      "execution_count": null,
      "outputs": [
        {
          "output_type": "stream",
          "name": "stdout",
          "text": [
            "              precision    recall  f1-score   support\n",
            "\n",
            "         1.0       0.38      1.00      0.55       234\n",
            "\n",
            "   micro avg       0.38      1.00      0.55       234\n",
            "   macro avg       0.38      1.00      0.55       234\n",
            "weighted avg       0.38      1.00      0.55       234\n",
            "\n"
          ]
        }
      ]
    },
    {
      "cell_type": "code",
      "source": [
        "print(f\"Accuracy Score: %{metrics.accuracy_score(y_test, y_hat,normalize=False)}\")"
      ],
      "metadata": {
        "id": "hzqTXIlCA53G",
        "colab": {
          "base_uri": "https://localhost:8080/"
        },
        "outputId": "fdd4290e-948b-44a5-ecde-24d00d6a405a"
      },
      "execution_count": null,
      "outputs": [
        {
          "output_type": "stream",
          "name": "stdout",
          "text": [
            "Accuracy Score: %234\n"
          ]
        }
      ]
    },
    {
      "cell_type": "code",
      "source": [
        "predictions = model.predict(x_test)\n",
        "predictions = [1 if x>0.5 else 0 for x in predictions]\n",
        "\n",
        "from sklearn.metrics import accuracy_score\n",
        "accuracy = accuracy_score(y_test, predictions)\n",
        "print('Test Accuracy = %.2f' % accuracy)"
      ],
      "metadata": {
        "colab": {
          "base_uri": "https://localhost:8080/"
        },
        "id": "HiAddPxrdUx5",
        "outputId": "7b0db9d1-cd03-463a-b023-0991d430d6ac"
      },
      "execution_count": null,
      "outputs": [
        {
          "output_type": "stream",
          "name": "stdout",
          "text": [
            "Test Accuracy = 0.38\n"
          ]
        }
      ]
    },
    {
      "cell_type": "code",
      "source": [
        "#model = ...  # Get model (Sequential, Functional Model, or Model subclass)\n",
        "model.save('LeNet5.h5')"
      ],
      "metadata": {
        "id": "QFKzivFF8hi9"
      },
      "execution_count": null,
      "outputs": []
    },
    {
      "cell_type": "code",
      "source": [
        ""
      ],
      "metadata": {
        "id": "QnDA4djaH9Oq"
      },
      "execution_count": null,
      "outputs": []
    }
  ]
}