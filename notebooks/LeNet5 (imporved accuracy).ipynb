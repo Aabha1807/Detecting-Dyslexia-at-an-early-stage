{
  "nbformat": 4,
  "nbformat_minor": 0,
  "metadata": {
    "colab": {
      "name": "LeNet5.ipynb",
      "provenance": [],
      "collapsed_sections": []
    },
    "kernelspec": {
      "name": "python3",
      "display_name": "Python 3"
    },
    "language_info": {
      "name": "python"
    }
  },
  "cells": [
    {
      "cell_type": "code",
      "execution_count": 1,
      "metadata": {
        "id": "Vj5-I63d9V7K"
      },
      "outputs": [],
      "source": [
        "import numpy as np # linear algebra\n",
        "import pandas as pd # data processing, CSV file I/O (e.g. pd.read_csv)\n",
        "import math\n",
        "import cv2\n",
        "import matplotlib.pyplot as plt\n",
        "import os\n",
        "import seaborn as sns\n",
        "from PIL import Image\n",
        "from scipy import misc\n",
        "from os import listdir\n",
        "from os.path import isfile, join\n",
        "import numpy as np\n",
        "from scipy import misc\n",
        "from random import shuffle\n",
        "from collections import Counter\n",
        "import matplotlib.pyplot as plt\n",
        "from sklearn.decomposition import PCA\n",
        "from sklearn.manifold import TSNE\n",
        "import tensorflow as tf\n",
        "from keras.models import Sequential\n",
        "from keras.layers import Conv2D, MaxPooling2D,AvgPool2D\n",
        "from keras.layers import Activation, Dropout, Flatten, Dense\n",
        "from keras.utils.np_utils import to_categorical"
      ]
    },
    {
      "cell_type": "code",
      "source": [
        "from google.colab import drive\n",
        "drive.mount('/content/drive')"
      ],
      "metadata": {
        "colab": {
          "base_uri": "https://localhost:8080/"
        },
        "id": "d5ACx71WW7lh",
        "outputId": "dcc4c025-fe19-494a-8685-63a2204ffd6e"
      },
      "execution_count": 2,
      "outputs": [
        {
          "output_type": "stream",
          "name": "stdout",
          "text": [
            "Mounted at /content/drive\n"
          ]
        }
      ]
    },
    {
      "cell_type": "code",
      "source": [
        "os.listdir('/content/drive/MyDrive/Train')"
      ],
      "metadata": {
        "colab": {
          "base_uri": "https://localhost:8080/"
        },
        "id": "E-u2JdLD9W3U",
        "outputId": "10513345-647f-42cb-e0ae-e7f2567d8e52"
      },
      "execution_count": 3,
      "outputs": [
        {
          "output_type": "execute_result",
          "data": {
            "text/plain": [
              "['Reversed', 'Normal', 'Corrected']"
            ]
          },
          "metadata": {},
          "execution_count": 3
        }
      ]
    },
    {
      "cell_type": "code",
      "source": [
        "im =Image.open('/content/drive/MyDrive/Train/Normal/A-0.png').resize((128,128))\n",
        "im"
      ],
      "metadata": {
        "colab": {
          "base_uri": "https://localhost:8080/",
          "height": 145
        },
        "id": "Q8JYxCme9nPU",
        "outputId": "0a615e40-0dbe-4ff1-e94a-676c825b5ad0"
      },
      "execution_count": 4,
      "outputs": [
        {
          "output_type": "execute_result",
          "data": {
            "text/plain": [
              "<PIL.Image.Image image mode=L size=128x128 at 0x7F17B9C11790>"
            ],
            "image/png": "[encoded data removed]"
          },
          "metadata": {},
          "execution_count": 4
        }
      ]
    },
    {
      "cell_type": "code",
      "source": [
        "Corrected = os.listdir('/content/drive/MyDrive/Train/Corrected')\n",
        "Normal = os.listdir('/content/drive/MyDrive/Train/Normal')\n",
        "Reversal = os.listdir('/content/drive/MyDrive/Train/Reversed')\n",
        "data=np.concatenate([Corrected,Normal,Reversal])\n",
        "len(data)==len(Corrected)+len(Normal)+len(Reversal)"
      ],
      "metadata": {
        "colab": {
          "base_uri": "https://localhost:8080/"
        },
        "id": "HC78HDpj9vGU",
        "outputId": "83cb560a-765f-4610-f349-1f2a23d52008"
      },
      "execution_count": 5,
      "outputs": [
        {
          "output_type": "execute_result",
          "data": {
            "text/plain": [
              "True"
            ]
          },
          "metadata": {},
          "execution_count": 5
        }
      ]
    },
    {
      "cell_type": "code",
      "source": [
        "target_x=np.full(len(Normal),1)\n",
        "target_y=np.full(len(Reversal),0)\n",
        "target_z=np.full(len(Corrected),0)\n",
        "data_target=np.concatenate([target_x,target_y,target_z])\n",
        "len(data_target)==len(target_x)+len(target_y)+len(target_z)"
      ],
      "metadata": {
        "colab": {
          "base_uri": "https://localhost:8080/"
        },
        "id": "0LlwZ6RI-N04",
        "outputId": "ebe6e87a-4c4d-41ce-de6f-4370addf1e10"
      },
      "execution_count": 6,
      "outputs": [
        {
          "output_type": "execute_result",
          "data": {
            "text/plain": [
              "True"
            ]
          },
          "metadata": {},
          "execution_count": 6
        }
      ]
    },
    {
      "cell_type": "code",
      "source": [
        "data_target"
      ],
      "metadata": {
        "colab": {
          "base_uri": "https://localhost:8080/"
        },
        "id": "tKsewcDt_a_9",
        "outputId": "856c5212-b771-4dc6-b2be-88f7edbff56d"
      },
      "execution_count": 7,
      "outputs": [
        {
          "output_type": "execute_result",
          "data": {
            "text/plain": [
              "array([1, 1, 1, ..., 0, 0, 0])"
            ]
          },
          "metadata": {},
          "execution_count": 7
        }
      ]
    },
    {
      "cell_type": "code",
      "source": [
        "Corrected_values=os.listdir('/content/drive/MyDrive/Train/Corrected')\n",
        "Normal_values=os.listdir('/content/drive/MyDrive/Train/Normal')\n",
        "Reversal_values=os.listdir('/content/drive/MyDrive/Train/Reversed')\n",
        "X_data =[]\n",
        "for file in Corrected_values:\n",
        "    img = cv2.imread('/content/drive/MyDrive/Train/Corrected/'+file)\n",
        "    face = cv2.resize(img, (28, 28))\n",
        "    (b, g, r)=cv2.split(face) \n",
        "    img=cv2.merge([r,g,b])\n",
        "    X_data.append(img)\n",
        "for file in Normal_values:\n",
        "    img = cv2.imread('/content/drive/MyDrive/Train/Normal/'+file)\n",
        "    face = cv2.resize(img, (28, 28))\n",
        "    (b, g, r)=cv2.split(face) \n",
        "    img=cv2.merge([r,g,b])\n",
        "    X_data.append(img)\n",
        "for file in Reversal_values:\n",
        "    img = cv2.imread('/content/drive/MyDrive/Train/Reversed/'+file)\n",
        "    face = cv2.resize(img, (28, 28))\n",
        "    (b, g, r)=cv2.split(face) \n",
        "    img=cv2.merge([r,g,b])\n",
        "    X_data.append(img)\n",
        "\n",
        "len(X_data)==len(data)==len(data_target)"
      ],
      "metadata": {
        "id": "zNftTCQv_ftM",
        "colab": {
          "base_uri": "https://localhost:8080/"
        },
        "outputId": "9854e291-f73f-4965-b350-c43d582b2c65"
      },
      "execution_count": 8,
      "outputs": [
        {
          "output_type": "execute_result",
          "data": {
            "text/plain": [
              "True"
            ]
          },
          "metadata": {},
          "execution_count": 8
        }
      ]
    },
    {
      "cell_type": "code",
      "source": [
        "X = np.squeeze(X_data)\n",
        "X.shape\n",
        "# normalize data\n",
        "X = X.astype('float32')\n",
        "X /= 255"
      ],
      "metadata": {
        "id": "gvySmBJ1ALjj"
      },
      "execution_count": 9,
      "outputs": []
    },
    {
      "cell_type": "code",
      "source": [
        "from sklearn.model_selection import train_test_split\n",
        "\n",
        "x_train, x_test, y_train, y_test = train_test_split(X, data_target, test_size = 0.2, random_state = 0, stratify = data_target)"
      ],
      "metadata": {
        "id": "IUad8wNCAkZI"
      },
      "execution_count": 10,
      "outputs": []
    },
    {
      "cell_type": "code",
      "source": [
        "model = Sequential()\n",
        "model.add(Conv2D(filters=32, kernel_size=(5,5), padding='same', activation='relu', input_shape=(28,28, 3)))\n",
        "model.add(MaxPooling2D(strides=2))\n",
        "model.add(Conv2D(filters=48, kernel_size=(5,5), padding='valid', activation='relu'))\n",
        "model.add(MaxPooling2D(strides=2))\n",
        "model.add(Flatten())\n",
        "model.add(Dense(256, activation='relu'))\n",
        "model.add(Dense(84, activation='relu'))\n",
        "model.add(Dense(3, activation='softmax'))\n",
        "\n",
        "\n",
        "model.build()\n",
        "model.summary()"
      ],
      "metadata": {
        "id": "Lol1T9iUAlde",
        "colab": {
          "base_uri": "https://localhost:8080/"
        },
        "outputId": "87084959-4cd7-46e2-f9df-4845d48c5a88"
      },
      "execution_count": 11,
      "outputs": [
        {
          "output_type": "stream",
          "name": "stdout",
          "text": [
            "Model: \"sequential\"\n",
            "_________________________________________________________________\n",
            " Layer (type)                Output Shape              Param #   \n",
            "=================================================================\n",
            " conv2d (Conv2D)             (None, 28, 28, 32)        2432      \n",
            "                                                                 \n",
            " max_pooling2d (MaxPooling2D  (None, 14, 14, 32)       0         \n",
            " )                                                               \n",
            "                                                                 \n",
            " conv2d_1 (Conv2D)           (None, 10, 10, 48)        38448     \n",
            "                                                                 \n",
            " max_pooling2d_1 (MaxPooling  (None, 5, 5, 48)         0         \n",
            " 2D)                                                             \n",
            "                                                                 \n",
            " flatten (Flatten)           (None, 1200)              0         \n",
            "                                                                 \n",
            " dense (Dense)               (None, 256)               307456    \n",
            "                                                                 \n",
            " dense_1 (Dense)             (None, 84)                21588     \n",
            "                                                                 \n",
            " dense_2 (Dense)             (None, 3)                 255       \n",
            "                                                                 \n",
            "=================================================================\n",
            "Total params: 370,179\n",
            "Trainable params: 370,179\n",
            "Non-trainable params: 0\n",
            "_________________________________________________________________\n"
          ]
        }
      ]
    },
    {
      "cell_type": "code",
      "source": [
        "from tensorflow.keras.optimizers import Adam\n",
        "adam = Adam(lr=5e-4)\n",
        "model.compile(loss='sparse_categorical_crossentropy', metrics=['accuracy'], optimizer=adam)"
      ],
      "metadata": {
        "id": "JJi92Y-rAnXx",
        "colab": {
          "base_uri": "https://localhost:8080/"
        },
        "outputId": "5055b622-8a50-4aaa-a9da-815628a0b1ff"
      },
      "execution_count": 12,
      "outputs": [
        {
          "output_type": "stream",
          "name": "stderr",
          "text": [
            "/usr/local/lib/python3.7/dist-packages/keras/optimizer_v2/adam.py:105: UserWarning: The `lr` argument is deprecated, use `learning_rate` instead.\n",
            "  super(Adam, self).__init__(name, **kwargs)\n"
          ]
        }
      ]
    },
    {
      "cell_type": "code",
      "source": [
        "# Set a learning rate annealer\n",
        "from keras.callbacks import ReduceLROnPlateau\n",
        "reduce_lr = ReduceLROnPlateau(monitor='val_accuracy', \n",
        "                                patience=3, \n",
        "                                verbose=1, \n",
        "                                factor=0.2, \n",
        "                                min_lr=1e-6)"
      ],
      "metadata": {
        "id": "qLoJ5ZCaApL6"
      },
      "execution_count": 13,
      "outputs": []
    },
    {
      "cell_type": "code",
      "source": [
        "# Data Augmentation\n",
        "from keras.preprocessing.image import ImageDataGenerator\n",
        "datagen = ImageDataGenerator(\n",
        "            rotation_range=10, \n",
        "            width_shift_range=0.1, \n",
        "            height_shift_range=0.1, \n",
        "            zoom_range=0.1)\n",
        "datagen.fit(x_train)"
      ],
      "metadata": {
        "id": "sokjE8MoArUf"
      },
      "execution_count": 14,
      "outputs": []
    },
    {
      "cell_type": "code",
      "source": [
        "history=model.fit(x_train, y_train, batch_size=10, steps_per_epoch=len(x_train)/100, epochs=30, validation_data=(x_test, y_test), callbacks=[reduce_lr])"
      ],
      "metadata": {
        "id": "CyXXKdy6Aw8Y",
        "colab": {
          "base_uri": "https://localhost:8080/"
        },
        "outputId": "d0243af9-feb7-4247-9d79-1f37cf855fc4"
      },
      "execution_count": 15,
      "outputs": [
        {
          "output_type": "stream",
          "name": "stdout",
          "text": [
            "Epoch 1/30\n",
            "24/24 [==============================] - 2s 45ms/step - loss: 0.7264 - accuracy: 0.6040 - val_loss: 0.5853 - val_accuracy: 0.6618 - lr: 5.0000e-04\n",
            "Epoch 2/30\n",
            "24/24 [==============================] - 1s 35ms/step - loss: 0.6551 - accuracy: 0.6280 - val_loss: 0.5798 - val_accuracy: 0.6585 - lr: 5.0000e-04\n",
            "Epoch 3/30\n",
            "24/24 [==============================] - 1s 37ms/step - loss: 0.6428 - accuracy: 0.6160 - val_loss: 0.5797 - val_accuracy: 0.7350 - lr: 5.0000e-04\n",
            "Epoch 4/30\n",
            "24/24 [==============================] - 1s 36ms/step - loss: 0.6321 - accuracy: 0.6280 - val_loss: 0.5386 - val_accuracy: 0.7236 - lr: 5.0000e-04\n",
            "Epoch 5/30\n",
            "24/24 [==============================] - 1s 36ms/step - loss: 0.5167 - accuracy: 0.7160 - val_loss: 0.6649 - val_accuracy: 0.6537 - lr: 5.0000e-04\n",
            "Epoch 6/30\n",
            "24/24 [============================>.] - ETA: 0s - loss: 0.5192 - accuracy: 0.7375\n",
            "Epoch 6: ReduceLROnPlateau reducing learning rate to 0.00010000000474974513.\n",
            "24/24 [==============================] - 1s 38ms/step - loss: 0.5152 - accuracy: 0.7440 - val_loss: 0.5187 - val_accuracy: 0.7252 - lr: 5.0000e-04\n",
            "Epoch 7/30\n",
            "24/24 [==============================] - 1s 35ms/step - loss: 0.5048 - accuracy: 0.7000 - val_loss: 0.5171 - val_accuracy: 0.7187 - lr: 1.0000e-04\n",
            "Epoch 8/30\n",
            "24/24 [==============================] - 1s 35ms/step - loss: 0.4964 - accuracy: 0.7640 - val_loss: 0.5149 - val_accuracy: 0.7236 - lr: 1.0000e-04\n",
            "Epoch 9/30\n",
            "25/24 [==============================] - ETA: 0s - loss: 0.4886 - accuracy: 0.7440\n",
            "Epoch 9: ReduceLROnPlateau reducing learning rate to 2.0000000949949027e-05.\n",
            "24/24 [==============================] - 1s 36ms/step - loss: 0.4886 - accuracy: 0.7440 - val_loss: 0.5122 - val_accuracy: 0.7236 - lr: 1.0000e-04\n",
            "Epoch 10/30\n",
            "24/24 [==============================] - 1s 35ms/step - loss: 0.4574 - accuracy: 0.7611 - val_loss: 0.5116 - val_accuracy: 0.7252 - lr: 2.0000e-05\n",
            "Epoch 11/30\n",
            "24/24 [==============================] - 1s 36ms/step - loss: 0.5039 - accuracy: 0.7120 - val_loss: 0.5141 - val_accuracy: 0.7333 - lr: 2.0000e-05\n",
            "Epoch 12/30\n",
            "25/24 [==============================] - ETA: 0s - loss: 0.4976 - accuracy: 0.7080\n",
            "Epoch 12: ReduceLROnPlateau reducing learning rate to 4.000000262749381e-06.\n",
            "24/24 [==============================] - 1s 37ms/step - loss: 0.4976 - accuracy: 0.7080 - val_loss: 0.5120 - val_accuracy: 0.7317 - lr: 2.0000e-05\n",
            "Epoch 13/30\n",
            "24/24 [==============================] - 1s 37ms/step - loss: 0.4586 - accuracy: 0.7760 - val_loss: 0.5115 - val_accuracy: 0.7350 - lr: 4.0000e-06\n",
            "Epoch 14/30\n",
            "24/24 [==============================] - 1s 37ms/step - loss: 0.4471 - accuracy: 0.7720 - val_loss: 0.5100 - val_accuracy: 0.7366 - lr: 4.0000e-06\n",
            "Epoch 15/30\n",
            "24/24 [==============================] - 1s 37ms/step - loss: 0.4711 - accuracy: 0.7680 - val_loss: 0.5096 - val_accuracy: 0.7350 - lr: 4.0000e-06\n",
            "Epoch 16/30\n",
            "24/24 [==============================] - 1s 36ms/step - loss: 0.4678 - accuracy: 0.7520 - val_loss: 0.5096 - val_accuracy: 0.7350 - lr: 4.0000e-06\n",
            "Epoch 17/30\n",
            "25/24 [==============================] - ETA: 0s - loss: 0.4644 - accuracy: 0.7720\n",
            "Epoch 17: ReduceLROnPlateau reducing learning rate to 1e-06.\n",
            "24/24 [==============================] - 1s 36ms/step - loss: 0.4644 - accuracy: 0.7720 - val_loss: 0.5097 - val_accuracy: 0.7333 - lr: 4.0000e-06\n",
            "Epoch 18/30\n",
            "24/24 [==============================] - 1s 37ms/step - loss: 0.5460 - accuracy: 0.6960 - val_loss: 0.5097 - val_accuracy: 0.7350 - lr: 1.0000e-06\n",
            "Epoch 19/30\n",
            "24/24 [==============================] - 1s 36ms/step - loss: 0.4960 - accuracy: 0.7440 - val_loss: 0.5097 - val_accuracy: 0.7350 - lr: 1.0000e-06\n",
            "Epoch 20/30\n",
            "24/24 [==============================] - 1s 37ms/step - loss: 0.4831 - accuracy: 0.7287 - val_loss: 0.5096 - val_accuracy: 0.7317 - lr: 1.0000e-06\n",
            "Epoch 21/30\n",
            "24/24 [==============================] - 1s 37ms/step - loss: 0.4678 - accuracy: 0.7600 - val_loss: 0.5096 - val_accuracy: 0.7350 - lr: 1.0000e-06\n",
            "Epoch 22/30\n",
            "24/24 [==============================] - 1s 38ms/step - loss: 0.4841 - accuracy: 0.7440 - val_loss: 0.5096 - val_accuracy: 0.7350 - lr: 1.0000e-06\n",
            "Epoch 23/30\n",
            "24/24 [==============================] - 1s 37ms/step - loss: 0.5089 - accuracy: 0.7360 - val_loss: 0.5096 - val_accuracy: 0.7350 - lr: 1.0000e-06\n",
            "Epoch 24/30\n",
            "24/24 [==============================] - 1s 36ms/step - loss: 0.4834 - accuracy: 0.7360 - val_loss: 0.5095 - val_accuracy: 0.7333 - lr: 1.0000e-06\n",
            "Epoch 25/30\n",
            "24/24 [==============================] - 1s 37ms/step - loss: 0.4629 - accuracy: 0.7640 - val_loss: 0.5095 - val_accuracy: 0.7333 - lr: 1.0000e-06\n",
            "Epoch 26/30\n",
            "24/24 [==============================] - 1s 37ms/step - loss: 0.5170 - accuracy: 0.7280 - val_loss: 0.5094 - val_accuracy: 0.7333 - lr: 1.0000e-06\n",
            "Epoch 27/30\n",
            "24/24 [==============================] - 1s 37ms/step - loss: 0.5018 - accuracy: 0.7080 - val_loss: 0.5093 - val_accuracy: 0.7317 - lr: 1.0000e-06\n",
            "Epoch 28/30\n",
            "24/24 [==============================] - 1s 37ms/step - loss: 0.4710 - accuracy: 0.7520 - val_loss: 0.5093 - val_accuracy: 0.7333 - lr: 1.0000e-06\n",
            "Epoch 29/30\n",
            "24/24 [==============================] - 1s 37ms/step - loss: 0.4809 - accuracy: 0.7200 - val_loss: 0.5093 - val_accuracy: 0.7350 - lr: 1.0000e-06\n",
            "Epoch 30/30\n",
            "24/24 [==============================] - 1s 36ms/step - loss: 0.4713 - accuracy: 0.7530 - val_loss: 0.5093 - val_accuracy: 0.7350 - lr: 1.0000e-06\n"
          ]
        }
      ]
    },
    {
      "cell_type": "code",
      "source": [
        "labels =[\"Reversal\", \"Corrected\",\n",
        "        \"Normal\",      # index 1\n",
        "        ]\n",
        "y_hat = model.predict(x_test)\n",
        "\n",
        "# Plot a random sample of 10 test images, their predicted labels and ground truth\n",
        "figure = plt.figure(figsize=(20, 8))\n",
        "for i, index in enumerate(np.random.choice(x_test.shape[0], size=15, replace=False)):\n",
        "    ax = figure.add_subplot(3, 5, i + 1, xticks=[], yticks=[])\n",
        "    # Display each image\n",
        "    ax.imshow(np.squeeze(x_test[index]))\n",
        "    predict_index = np.argmax(y_hat[index])\n",
        "    true_index = np.argmax(y_test[index])\n",
        "    # Set the title for each image\n",
        "    ax.set_title(\"{} ({})\".format(labels[predict_index], \n",
        "                                  labels[true_index]),\n",
        "                                  color=(\"green\" if predict_index == true_index else \"red\"))\n",
        "plt.show()"
      ],
      "metadata": {
        "id": "RaAGSBXAA2U5",
        "colab": {
          "base_uri": "https://localhost:8080/",
          "height": 485
        },
        "outputId": "b1fe1701-26e1-4cb6-aa95-953920127931"
      },
      "execution_count": 16,
      "outputs": [
        {
          "output_type": "display_data",
          "data": {
            "text/plain": [
              "<Figure size 1440x576 with 15 Axes>"
            ],
            "image/png": "[encoded data removed]"
          },
          "metadata": {}
        }
      ]
    },
    {
      "cell_type": "code",
      "source": [
        "_# Plot training & validation loss values\n",
        "plt.plot(history.history['accuracy'])\n",
        "plt.plot(history.history['val_accuracy'])\n",
        "plt.title('CNN Model accuracy values')\n",
        "plt.ylabel('Accuracy')\n",
        "plt.xlabel('Epoch')\n",
        "plt.legend(['Train', 'Test'], loc='upper left')\n",
        "plt.show()"
      ],
      "metadata": {
        "colab": {
          "base_uri": "https://localhost:8080/",
          "height": 295
        },
        "id": "d0dNovsoZ30J",
        "outputId": "463fdeb2-d435-4f84-8f87-dec10c06e5f8"
      },
      "execution_count": 17,
      "outputs": [
        {
          "output_type": "display_data",
          "data": {
            "text/plain": [
              "<Figure size 432x288 with 1 Axes>"
            ],
            "image/png": "[encoded data removed]"
          },
          "metadata": {
            "needs_background": "light"
          }
        }
      ]
    },
    {
      "cell_type": "code",
      "source": [
        "#model = ...  # Get model (Sequential, Functional Model, or Model subclass)\n",
        "model.save('LeNet5.h5')"
      ],
      "metadata": {
        "id": "QFKzivFF8hi9"
      },
      "execution_count": 27,
      "outputs": []
    },
    {
      "cell_type": "code",
      "source": [
        ""
      ],
      "metadata": {
        "id": "xopiA7lTMiKv"
      },
      "execution_count": 38,
      "outputs": []
    }
  ]
}