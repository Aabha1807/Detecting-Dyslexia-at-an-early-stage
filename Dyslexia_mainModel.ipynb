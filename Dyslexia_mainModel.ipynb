{
 "cells": [
  {
   "cell_type": "markdown",
   "id": "a1e53a6f-7fea-4d73-bab1-b45858a19a6a",
   "metadata": {},
   "source": [
    "# Pattern Detection"
   ]
  },
  {
   "cell_type": "code",
   "execution_count": 1,
   "id": "f49004c1-5352-44b0-9a51-1536de1ed311",
   "metadata": {},
   "outputs": [],
   "source": [
    "# Importing libraries \n",
    "\n",
    "import numpy as np\n",
    "import tensorflow as tf\n",
    "from tensorflow import keras\n",
    "from tensorflow.keras.preprocessing.image import ImageDataGenerator\n",
    "import PIL\n",
    "import matplotlib.pyplot as plt"
   ]
  },
  {
   "cell_type": "markdown",
   "id": "31bb2520-5eed-4a77-bb68-b7142e1707b8",
   "metadata": {},
   "source": [
    "## Data Pre-Processing"
   ]
  },
  {
   "cell_type": "code",
   "execution_count": 2,
   "id": "70c71601-e59f-47a6-af5f-4ad0c5804ee5",
   "metadata": {},
   "outputs": [
    {
     "data": {
      "image/png": "[encoded data removed]",
      "text/plain": [
       "<Figure size 432x288 with 1 Axes>"
      ]
     },
     "metadata": {
      "needs_background": "light"
     },
     "output_type": "display_data"
    },
    {
     "data": {
      "image/png": "[encoded data removed]",
      "text/plain": [
       "<Figure size 432x288 with 1 Axes>"
      ]
     },
     "metadata": {
      "needs_background": "light"
     },
     "output_type": "display_data"
    },
    {
     "data": {
      "image/png": "[encoded data removed]",
      "text/plain": [
       "<Figure size 432x288 with 1 Axes>"
      ]
     },
     "metadata": {
      "needs_background": "light"
     },
     "output_type": "display_data"
    }
   ],
   "source": [
    "#defining Train and validation directory\n",
    "train_dir = 'Main_dataset/Train'\n",
    "validation_dir = 'Main_dataset/Test'\n",
    "test_dir = 'Main_dataset/Test'\n",
    "\n",
    "#looking at one of the samples of the dataset\n",
    "for i in range(0,15,5):\n",
    "    try_img = PIL.Image.open(train_dir+'/Normal/A-'+str(i)+'.png')\n",
    "    plt.imshow(try_img)\n",
    "    plt.show()"
   ]
  },
  {
   "cell_type": "code",
   "execution_count": 3,
   "id": "15ddb34d-15b1-47e4-93aa-f2a59cdafdab",
   "metadata": {},
   "outputs": [
    {
     "name": "stdout",
     "output_type": "stream",
     "text": [
      "Mode of the data:  L\n",
      "Size of Images:  (28, 28)\n"
     ]
    }
   ],
   "source": [
    "#checking the mode and size of the image in the dataset\n",
    "print(\"Mode of the data: \", try_img.mode) # L -> GrayScale\n",
    "print(\"Size of Images: \", try_img._size)"
   ]
  },
  {
   "cell_type": "code",
   "execution_count": 4,
   "id": "1ff57c83-308f-4871-a055-9ddebefaea6d",
   "metadata": {},
   "outputs": [
    {
     "name": "stdout",
     "output_type": "stream",
     "text": [
      "Normal:  39334\n",
      "Corrected:  65534\n",
      "Reversal:  46781\n"
     ]
    }
   ],
   "source": [
    "# importing glob to access the files\n",
    "import glob\n",
    "\n",
    "print(\"Normal: \", len(glob.glob(train_dir+'/Normal/*')))\n",
    "print(\"Corrected: \", len(glob.glob(train_dir+'/Corrected/*')))\n",
    "print(\"Reversal: \", len(glob.glob(train_dir+'/Reversal/*')))"
   ]
  },
  {
   "cell_type": "code",
   "execution_count": 5,
   "id": "e1ddb81f-ff52-49c3-b4cd-0c3092151a7e",
   "metadata": {},
   "outputs": [
    {
     "name": "stdout",
     "output_type": "stream",
     "text": [
      "Found 151649 images belonging to 3 classes.\n",
      "Found 56723 images belonging to 3 classes.\n",
      "Found 56723 images belonging to 3 classes.\n"
     ]
    }
   ],
   "source": [
    "#defining image and batch size\n",
    "IMAGE_SIZE = try_img._size\n",
    "BATCH_SIZE = 32            #hyperparameter\n",
    "\n",
    "#Normalisation and data augmentation\n",
    "train_datagen = ImageDataGenerator(rescale=1.0/255,rotation_range=10)\n",
    "\n",
    "\n",
    "train_generator = train_datagen.flow_from_directory(\n",
    "    train_dir,   #path to the training dataset\n",
    "    target_size = IMAGE_SIZE,\n",
    "    batch_size = BATCH_SIZE, \n",
    "    class_mode ='categorical')  \n",
    "\n",
    "validation_datagen = ImageDataGenerator(rescale=1./255)\n",
    "validation_generator = validation_datagen.flow_from_directory(\n",
    "    validation_dir,\n",
    "    target_size = IMAGE_SIZE,\n",
    "    batch_size = BATCH_SIZE,\n",
    "    class_mode='categorical')\n",
    "\n",
    "test_datagen = ImageDataGenerator(rescale=1./255)\n",
    "test_generator = test_datagen.flow_from_directory(\n",
    "    test_dir,\n",
    "    target_size = IMAGE_SIZE,\n",
    "    batch_size = 1,\n",
    "    class_mode='categorical')"
   ]
  },
  {
   "cell_type": "markdown",
   "id": "17671b63-192e-4207-8d6c-060e34175545",
   "metadata": {},
   "source": [
    "## Model Architecture"
   ]
  },
  {
   "cell_type": "code",
   "execution_count": 6,
   "id": "231a513b-52aa-42ee-b7a4-e3ddb29c762e",
   "metadata": {},
   "outputs": [
    {
     "name": "stdout",
     "output_type": "stream",
     "text": [
      "(28, 28, 3)\n",
      "Model: \"sequential\"\n",
      "_________________________________________________________________\n",
      " Layer (type)                Output Shape              Param #   \n",
      "=================================================================\n",
      " conv2d (Conv2D)             (None, 28, 28, 1)         28        \n",
      "                                                                 \n",
      " max_pooling2d (MaxPooling2D  (None, 14, 14, 1)        0         \n",
      " )                                                               \n",
      "                                                                 \n",
      " conv2d_1 (Conv2D)           (None, 14, 14, 32)        320       \n",
      "                                                                 \n",
      " max_pooling2d_1 (MaxPooling  (None, 7, 7, 32)         0         \n",
      " 2D)                                                             \n",
      "                                                                 \n",
      " dropout (Dropout)           (None, 7, 7, 32)          0         \n",
      "                                                                 \n",
      " flatten (Flatten)           (None, 1568)              0         \n",
      "                                                                 \n",
      " dense (Dense)               (None, 8)                 12552     \n",
      "                                                                 \n",
      " dropout_1 (Dropout)         (None, 8)                 0         \n",
      "                                                                 \n",
      " dense_1 (Dense)             (None, 256)               2304      \n",
      "                                                                 \n",
      " dense_2 (Dense)             (None, 3)                 771       \n",
      "                                                                 \n",
      "=================================================================\n",
      "Total params: 15,975\n",
      "Trainable params: 15,975\n",
      "Non-trainable params: 0\n",
      "_________________________________________________________________\n"
     ]
    }
   ],
   "source": [
    "INPUT_SHAPE = IMAGE_SIZE + (3, )\n",
    "print(INPUT_SHAPE)\n",
    "\n",
    "model = tf.keras.models.Sequential([                               \n",
    "    tf.keras.layers.Conv2D(1, (3, 3), activation='relu', input_shape=INPUT_SHAPE, padding=\"same\"),\n",
    "    tf.keras.layers.MaxPool2D(2, 2),\n",
    "    tf.keras.layers.Conv2D(32, (3, 3), activation='relu', padding=\"same\"), \n",
    "    tf.keras.layers.MaxPool2D(2, 2),\n",
    "    tf.keras.layers.Dropout(0.25),\n",
    "    tf.keras.layers.Flatten(),\n",
    "    tf.keras.layers.Dense(8, activation='relu'),\n",
    "    tf.keras.layers.Dropout(0.25),\n",
    "    tf.keras.layers.Dense(256, activation='relu'),\n",
    "    tf.keras.layers.Dense(3, activation='softmax')\n",
    "])\n",
    "\n",
    "model.summary()"
   ]
  },
  {
   "cell_type": "code",
   "execution_count": 7,
   "id": "378bb4d5-ca75-4e45-b3c5-a23230877dea",
   "metadata": {},
   "outputs": [],
   "source": [
    "# optimizer = tf.keras.optimizers.Adam(learning_rate=1e-4, beta_1=0.9, beta_2=0.999, epsilon=1e-08)\n",
    "\n",
    "model.compile(\n",
    "    loss='categorical_crossentropy', \n",
    "    optimizer='adam', \n",
    "    metrics=['accuracy'])"
   ]
  },
  {
   "cell_type": "code",
   "execution_count": 8,
   "id": "5e5b42c9-c120-4583-923d-1774b5ef09a0",
   "metadata": {},
   "outputs": [],
   "source": [
    "STEPS_PER_EPOCH = 86115//BATCH_SIZE\n",
    "VALIDATION_STEPS = 37439//BATCH_SIZE\n"
   ]
  },
  {
   "cell_type": "code",
   "execution_count": 10,
   "id": "4d1a7632-e1de-4fd0-a1a2-13289c770541",
   "metadata": {},
   "outputs": [
    {
     "name": "stdout",
     "output_type": "stream",
     "text": [
      "Epoch 1/5\n",
      "2691/2691 [==============================] - 135s 50ms/step - loss: 0.5575 - accuracy: 0.7794 - val_loss: 0.5332 - val_accuracy: 0.7798\n",
      "Epoch 2/5\n",
      "2691/2691 [==============================] - 133s 49ms/step - loss: 0.4369 - accuracy: 0.8329 - val_loss: 0.5089 - val_accuracy: 0.7945\n",
      "Epoch 3/5\n",
      "2691/2691 [==============================] - 127s 47ms/step - loss: 0.4055 - accuracy: 0.8469 - val_loss: 0.4490 - val_accuracy: 0.8190\n",
      "Epoch 4/5\n",
      "2691/2691 [==============================] - 129s 48ms/step - loss: 0.3899 - accuracy: 0.8541 - val_loss: 0.4632 - val_accuracy: 0.8120\n",
      "Epoch 5/5\n",
      "2691/2691 [==============================] - 126s 47ms/step - loss: 0.3778 - accuracy: 0.8593 - val_loss: 0.4441 - val_accuracy: 0.8234\n"
     ]
    }
   ],
   "source": [
    "history = model.fit(train_generator, \n",
    "            epochs=5,\n",
    "            steps_per_epoch = STEPS_PER_EPOCH,\n",
    "            validation_data = validation_generator,\n",
    "            validation_steps = VALIDATION_STEPS, \n",
    "            verbose=1)"
   ]
  },
  {
   "cell_type": "code",
   "execution_count": 11,
   "id": "d48ca1ef-9fbd-43ae-ad78-03976ba57a79",
   "metadata": {},
   "outputs": [
    {
     "name": "stdout",
     "output_type": "stream",
     "text": [
      "56723/56723 [==============================] - 56s 990us/step - loss: 0.4435 - accuracy: 0.8240\n"
     ]
    },
    {
     "data": {
      "text/plain": [
       "[0.4435461163520813, 0.8240219950675964]"
      ]
     },
     "execution_count": 11,
     "metadata": {},
     "output_type": "execute_result"
    }
   ],
   "source": [
    "model.evaluate(test_generator)"
   ]
  },
  {
   "cell_type": "code",
   "execution_count": 19,
   "id": "6714e2e1-4650-456c-8d62-ef1359f05ea3",
   "metadata": {},
   "outputs": [
    {
     "name": "stdout",
     "output_type": "stream",
     "text": [
      "Collecting opencv-python\n",
      "  Downloading opencv_python-4.6.0.66-cp36-abi3-macosx_10_15_x86_64.whl (46.4 MB)\n",
      "\u001b[K     |████████████████████████████████| 46.4 MB 958 kB/s  eta 0:00:01\n",
      "\u001b[?25hRequirement already satisfied: numpy>=1.14.5 in /Users/Aabha/opt/anaconda3/lib/python3.8/site-packages (from opencv-python) (1.20.2)\n",
      "Installing collected packages: opencv-python\n",
      "Successfully installed opencv-python-4.6.0.66\n"
     ]
    }
   ],
   "source": [
    "!pip install opencv-python"
   ]
  },
  {
   "cell_type": "code",
   "execution_count": 55,
   "id": "2fa0c512",
   "metadata": {},
   "outputs": [
    {
     "data": {
      "text/plain": [
       "<matplotlib.image.AxesImage at 0x7fa8dfeed2b0>"
      ]
     },
     "execution_count": 55,
     "metadata": {},
     "output_type": "execute_result"
    },
    {
     "data": {
      "image/png": "[encoded data removed]",
      "text/plain": [
       "<Figure size 432x288 with 1 Axes>"
      ]
     },
     "metadata": {
      "needs_background": "light"
     },
     "output_type": "display_data"
    }
   ],
   "source": [
    "import cv2\n",
    "img = cv2.imread(validation_dir+'/Reversal/1_5961.png')\n",
    "import matplotlib.pyplot as pl\n",
    "plt.imshow(img)"
   ]
  },
  {
   "cell_type": "code",
   "execution_count": 56,
   "id": "555122b8",
   "metadata": {},
   "outputs": [
    {
     "data": {
      "text/plain": [
       "(28, 28, 3)"
      ]
     },
     "execution_count": 56,
     "metadata": {},
     "output_type": "execute_result"
    }
   ],
   "source": [
    "img = cv2.resize(img,(28,28))\n",
    "img.shape"
   ]
  },
  {
   "cell_type": "code",
   "execution_count": 57,
   "id": "240dda6d-a821-4590-aa97-ff728743af5c",
   "metadata": {},
   "outputs": [],
   "source": [
    "img = np.expand_dims(img,0)"
   ]
  },
  {
   "cell_type": "code",
   "execution_count": 58,
   "id": "689b5c46-bfda-42fe-ba47-01bd0f524864",
   "metadata": {},
   "outputs": [
    {
     "data": {
      "text/plain": [
       "array([[0., 0., 1.]], dtype=float32)"
      ]
     },
     "execution_count": 58,
     "metadata": {},
     "output_type": "execute_result"
    }
   ],
   "source": [
    "model.predict(img)"
   ]
  },
  {
   "cell_type": "code",
   "execution_count": 59,
   "id": "91c007d9-f924-4da5-987e-1725c3e30ce9",
   "metadata": {},
   "outputs": [],
   "source": [
    "model.save('main_model.h5')"
   ]
  },
  {
   "cell_type": "code",
   "execution_count": null,
   "id": "260fcdfe",
   "metadata": {},
   "outputs": [],
   "source": []
  }
 ],
 "metadata": {
  "kernelspec": {
   "display_name": "Python 3",
   "language": "python",
   "name": "python3"
  },
  "language_info": {
   "codemirror_mode": {
    "name": "ipython",
    "version": 3
   },
   "file_extension": ".py",
   "mimetype": "text/x-python",
   "name": "python",
   "nbconvert_exporter": "python",
   "pygments_lexer": "ipython3",
   "version": "3.8.8"
  },
  "vscode": {
   "interpreter": {
    "hash": "aee8b7b246df8f9039afb4144a1f6fd8d2ca17a180786b69acc140d282b71a49"
   }
  }
 },
 "nbformat": 4,
 "nbformat_minor": 5
}
